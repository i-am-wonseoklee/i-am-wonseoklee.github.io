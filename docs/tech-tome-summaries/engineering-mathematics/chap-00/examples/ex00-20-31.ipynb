{
 "cells": [
  {
   "cell_type": "code",
   "execution_count": 1,
   "metadata": {},
   "outputs": [
    {
     "name": "stdout",
     "output_type": "stream",
     "text": [
      "pi/6\n"
     ]
    }
   ],
   "source": [
    "from sympy import *\n",
    "r, theta = symbols(\"x, theta\")\n",
    "x = r * cos(theta)\n",
    "y = r * sin(theta)\n",
    "f = sqrt(x**2 + y **2)\n",
    "ans = integrate(f * r, (r, 0, 1), (theta, 0, pi / 2))\n",
    "print(ans)"
   ]
  }
 ],
 "metadata": {
  "kernelspec": {
   "display_name": "Python 3",
   "language": "python",
   "name": "python3"
  },
  "language_info": {
   "codemirror_mode": {
    "name": "ipython",
    "version": 3
   },
   "file_extension": ".py",
   "mimetype": "text/x-python",
   "name": "python",
   "nbconvert_exporter": "python",
   "pygments_lexer": "ipython3",
   "version": "3.12.3"
  }
 },
 "nbformat": 4,
 "nbformat_minor": 2
}
