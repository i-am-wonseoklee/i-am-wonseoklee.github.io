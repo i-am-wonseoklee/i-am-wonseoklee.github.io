{
 "cells": [
  {
   "cell_type": "code",
   "execution_count": 1,
   "metadata": {},
   "outputs": [
    {
     "name": "stdout",
     "output_type": "stream",
     "text": [
      "(y*sin(x) - sin(y))/(x*cos(y) + cos(x))\n",
      "(y*sin(x) - sin(y))/(x*cos(y) + cos(x))\n"
     ]
    }
   ],
   "source": [
    "from sympy import *\n",
    "x, y = symbols(\"x, y\")\n",
    "f = x * sin(y) + y * cos(x)\n",
    "dfx = diff(f, x)\n",
    "dfy = diff(f, y)\n",
    "print(-dfx / dfy)\n",
    "print(idiff(f, y, x))"
   ]
  }
 ],
 "metadata": {
  "kernelspec": {
   "display_name": "Python 3",
   "language": "python",
   "name": "python3"
  },
  "language_info": {
   "codemirror_mode": {
    "name": "ipython",
    "version": 3
   },
   "file_extension": ".py",
   "mimetype": "text/x-python",
   "name": "python",
   "nbconvert_exporter": "python",
   "pygments_lexer": "ipython3",
   "version": "3.12.3"
  }
 },
 "nbformat": 4,
 "nbformat_minor": 2
}
