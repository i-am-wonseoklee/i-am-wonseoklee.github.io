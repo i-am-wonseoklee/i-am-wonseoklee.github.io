{
 "cells": [
  {
   "cell_type": "code",
   "execution_count": 3,
   "metadata": {},
   "outputs": [],
   "source": [
    "import numpy as np\n",
    "\n",
    "def do_mean_centering(v : np.ndarray) -> np.ndarray:\n",
    "    return v - np.mean(v)\n",
    "\n",
    "def get_cosine_similarity(v1 : np.ndarray, v2 : np.ndarray) -> float:\n",
    "    norm_v1 = np.linalg.norm(v1)\n",
    "    norm_v2 = np.linalg.norm(v2)\n",
    "    return np.dot(v1, v2) / (norm_v1 * norm_v2)\n",
    "\n",
    "def get_pearson_correlation(v1 : np.ndarray, v2 : np.ndarray) -> float:\n",
    "    return get_cosine_similarity(do_mean_centering(v1), do_mean_centering(v2))"
   ]
  },
  {
   "cell_type": "code",
   "execution_count": 4,
   "metadata": {},
   "outputs": [
    {
     "name": "stdout",
     "output_type": "stream",
     "text": [
      "Cosine similarity: 0.9746318461970762\n",
      "Pearson correlation: 0.9999999999999998\n"
     ]
    }
   ],
   "source": [
    "v1 = np.array(input(\"Enter v1: \").split(), dtype=float)\n",
    "v2 = np.array(input(\"Enter v2: \").split(), dtype=float)\n",
    "\n",
    "print(\"Cosine similarity:\", get_cosine_similarity(v1, v2))\n",
    "print(\"Pearson correlation:\", get_pearson_correlation(v1, v2))"
   ]
  },
  {
   "cell_type": "code",
   "execution_count": 5,
   "metadata": {},
   "outputs": [
    {
     "name": "stdout",
     "output_type": "stream",
     "text": [
      "Cosine similarity: 0.9999999999999998\n",
      "Pearson correlation: 0.9999999999999998\n"
     ]
    }
   ],
   "source": [
    "v1 = np.array(input(\"Enter v1: \").split(), dtype=float)\n",
    "v2 = np.array(input(\"Enter v2: \").split(), dtype=float)\n",
    "\n",
    "print(\"Cosine similarity:\", get_cosine_similarity(v1, v2))\n",
    "print(\"Pearson correlation:\", get_pearson_correlation(v1, v2))"
   ]
  }
 ],
 "metadata": {
  "kernelspec": {
   "display_name": "Python 3",
   "language": "python",
   "name": "python3"
  },
  "language_info": {
   "codemirror_mode": {
    "name": "ipython",
    "version": 3
   },
   "file_extension": ".py",
   "mimetype": "text/x-python",
   "name": "python",
   "nbconvert_exporter": "python",
   "pygments_lexer": "ipython3",
   "version": "3.10.12"
  }
 },
 "nbformat": 4,
 "nbformat_minor": 2
}
