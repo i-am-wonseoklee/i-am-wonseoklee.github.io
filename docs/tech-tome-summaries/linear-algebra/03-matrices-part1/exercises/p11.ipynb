{
 "cells": [
  {
   "cell_type": "code",
   "execution_count": 2,
   "metadata": {},
   "outputs": [
    {
     "name": "stdout",
     "output_type": "stream",
     "text": [
      "[[ 1.  1.  1.  1.]\n",
      " [ 4.  4.  4.  4.]\n",
      " [ 9.  9.  9.  9.]\n",
      " [16. 16. 16. 16.]]\n",
      "[[ 1.  4.  9. 16.]\n",
      " [ 1.  4.  9. 16.]\n",
      " [ 1.  4.  9. 16.]\n",
      " [ 1.  4.  9. 16.]]\n",
      "[[1. 1. 1. 1.]\n",
      " [2. 2. 2. 2.]\n",
      " [3. 3. 3. 3.]\n",
      " [4. 4. 4. 4.]]\n",
      "[[1. 2. 3. 4.]\n",
      " [1. 2. 3. 4.]\n",
      " [1. 2. 3. 4.]\n",
      " [1. 2. 3. 4.]]\n"
     ]
    }
   ],
   "source": [
    "import numpy as np\n",
    "\n",
    "A = np.ones((4, 4))\n",
    "B = np.diag(np.arange(1, 5)**2)\n",
    "C = np.diag(np.arange(1, 5))\n",
    "\n",
    "print(B @ A)\n",
    "print(A @ B)\n",
    "\n",
    "print(C @ A)\n",
    "print(A @ C)"
   ]
  }
 ],
 "metadata": {
  "kernelspec": {
   "display_name": "Python 3",
   "language": "python",
   "name": "python3"
  },
  "language_info": {
   "codemirror_mode": {
    "name": "ipython",
    "version": 3
   },
   "file_extension": ".py",
   "mimetype": "text/x-python",
   "name": "python",
   "nbconvert_exporter": "python",
   "pygments_lexer": "ipython3",
   "version": "3.12.3"
  }
 },
 "nbformat": 4,
 "nbformat_minor": 2
}
