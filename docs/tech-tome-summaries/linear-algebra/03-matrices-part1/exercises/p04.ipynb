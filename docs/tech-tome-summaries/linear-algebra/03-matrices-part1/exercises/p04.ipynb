{
 "cells": [
  {
   "cell_type": "code",
   "execution_count": 5,
   "metadata": {},
   "outputs": [],
   "source": [
    "import numpy as np\n",
    "\n",
    "def add(m0, m1):\n",
    "    ret = np.zeros_like(m0)\n",
    "    for r in range(m0.shape[0]):\n",
    "        for c in range(m0.shape[1]):\n",
    "            ret[r, c] = m0[r, c] + m1[r, c]\n",
    "    return ret"
   ]
  },
  {
   "cell_type": "code",
   "execution_count": 6,
   "metadata": {},
   "outputs": [
    {
     "name": "stdout",
     "output_type": "stream",
     "text": [
      "True\n"
     ]
    }
   ],
   "source": [
    "m0 = np.random.randn(5, 5)\n",
    "m1 = np.random.randn(5, 5)\n",
    "\n",
    "r0 = m0 + m1\n",
    "r1 = add(m0, m1)\n",
    "\n",
    "print(np.allclose(r0, r1))"
   ]
  }
 ],
 "metadata": {
  "kernelspec": {
   "display_name": "Python 3",
   "language": "python",
   "name": "python3"
  },
  "language_info": {
   "codemirror_mode": {
    "name": "ipython",
    "version": 3
   },
   "file_extension": ".py",
   "mimetype": "text/x-python",
   "name": "python",
   "nbconvert_exporter": "python",
   "pygments_lexer": "ipython3",
   "version": "3.12.3"
  }
 },
 "nbformat": 4,
 "nbformat_minor": 2
}
