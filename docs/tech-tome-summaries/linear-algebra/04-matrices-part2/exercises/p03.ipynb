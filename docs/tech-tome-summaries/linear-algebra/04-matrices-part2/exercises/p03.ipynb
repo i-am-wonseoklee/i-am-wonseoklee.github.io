{
 "cells": [
  {
   "cell_type": "code",
   "execution_count": 1,
   "metadata": {},
   "outputs": [
    {
     "name": "stdout",
     "output_type": "stream",
     "text": [
      "True\n",
      "True\n",
      "True\n"
     ]
    }
   ],
   "source": [
    "import numpy as np\n",
    "\n",
    "m = np.random.randn(10, 10)\n",
    "r0 = np.sqrt(np.sum(m**2))\n",
    "r1 = np.sqrt(np.trace(m @ m.T))\n",
    "r2 = np.sqrt(np.trace(m.T @ m))\n",
    "\n",
    "print(np.allclose(r0, r1))\n",
    "print(np.allclose(r1, r2))\n",
    "print(np.allclose(r0, r2))"
   ]
  }
 ],
 "metadata": {
  "kernelspec": {
   "display_name": "Python 3",
   "language": "python",
   "name": "python3"
  },
  "language_info": {
   "codemirror_mode": {
    "name": "ipython",
    "version": 3
   },
   "file_extension": ".py",
   "mimetype": "text/x-python",
   "name": "python",
   "nbconvert_exporter": "python",
   "pygments_lexer": "ipython3",
   "version": "3.12.3"
  }
 },
 "nbformat": 4,
 "nbformat_minor": 2
}
