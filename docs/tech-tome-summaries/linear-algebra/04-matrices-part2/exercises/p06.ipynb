{
 "cells": [
  {
   "cell_type": "code",
   "execution_count": 3,
   "metadata": {},
   "outputs": [
    {
     "name": "stdout",
     "output_type": "stream",
     "text": [
      "0 <= 1 + 1\n",
      "1 <= 1 + 1\n",
      "2 <= 1 + 1\n"
     ]
    }
   ],
   "source": [
    "import numpy as np\n",
    "\n",
    "mat0 = np.array([[1, 0], [0, 0]])\n",
    "mat1 = np.array([[-1, 0], [0, 0]])\n",
    "sum = mat0 + mat1\n",
    "print(f\"{np.linalg.matrix_rank(sum)} <= {np.linalg.matrix_rank(mat0)} + {np.linalg.matrix_rank(mat1)}\")\n",
    "\n",
    "mat0 = np.array([[1, 0], [0, 0]])\n",
    "mat1 = np.array([[2, 0], [0, 0]])\n",
    "sum = mat0 + mat1\n",
    "print(f\"{np.linalg.matrix_rank(sum)} <= {np.linalg.matrix_rank(mat0)} + {np.linalg.matrix_rank(mat1)}\")\n",
    "\n",
    "mat0 = np.array([[1, 0], [0, 0]])\n",
    "mat1 = np.array([[0, 0], [0, 1]])\n",
    "sum = mat0 + mat1\n",
    "print(f\"{np.linalg.matrix_rank(sum)} <= {np.linalg.matrix_rank(mat0)} + {np.linalg.matrix_rank(mat1)}\")"
   ]
  }
 ],
 "metadata": {
  "kernelspec": {
   "display_name": "Python 3",
   "language": "python",
   "name": "python3"
  },
  "language_info": {
   "codemirror_mode": {
    "name": "ipython",
    "version": 3
   },
   "file_extension": ".py",
   "mimetype": "text/x-python",
   "name": "python",
   "nbconvert_exporter": "python",
   "pygments_lexer": "ipython3",
   "version": "3.12.3"
  }
 },
 "nbformat": 4,
 "nbformat_minor": 2
}
