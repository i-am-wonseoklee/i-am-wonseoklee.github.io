{
 "cells": [
  {
   "cell_type": "code",
   "execution_count": 1,
   "metadata": {},
   "outputs": [],
   "source": [
    "import numpy as np"
   ]
  },
  {
   "cell_type": "code",
   "execution_count": 2,
   "metadata": {},
   "outputs": [
    {
     "name": "stdout",
     "output_type": "stream",
     "text": [
      "[-7. -4.  3.]\n"
     ]
    }
   ],
   "source": [
    "scalars = [1, 2, -3]\n",
    "vectors = [np.array([4, 5, 1]), np.array([-4, 0, 4]), np.array([1, 3, 2])]\n",
    "output = np.zeros(3)\n",
    "\n",
    "# IDK why this fucking ridiculous exercise is here.\n",
    "scalars.append(4)\n",
    "for (s, v) in zip(scalars, vectors):\n",
    "    output += s * v\n",
    "\n",
    "print(output)"
   ]
  }
 ],
 "metadata": {
  "kernelspec": {
   "display_name": "Python 3",
   "language": "python",
   "name": "python3"
  },
  "language_info": {
   "codemirror_mode": {
    "name": "ipython",
    "version": 3
   },
   "file_extension": ".py",
   "mimetype": "text/x-python",
   "name": "python",
   "nbconvert_exporter": "python",
   "pygments_lexer": "ipython3",
   "version": "3.10.12"
  }
 },
 "nbformat": 4,
 "nbformat_minor": 2
}
