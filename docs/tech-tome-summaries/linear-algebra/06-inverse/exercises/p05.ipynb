{
 "cells": [
  {
   "cell_type": "code",
   "execution_count": 1,
   "metadata": {},
   "outputs": [],
   "source": [
    "import numpy as np"
   ]
  },
  {
   "cell_type": "code",
   "execution_count": 2,
   "metadata": {},
   "outputs": [],
   "source": [
    "def get_inv(m):\n",
    "    return np.linalg.inv(m)"
   ]
  },
  {
   "cell_type": "code",
   "execution_count": 3,
   "metadata": {},
   "outputs": [],
   "source": [
    "def get_linv(m):\n",
    "    return np.linalg.inv(m.T @ m) @ m.T"
   ]
  },
  {
   "cell_type": "code",
   "execution_count": 4,
   "metadata": {},
   "outputs": [],
   "source": [
    "def get_rinv(m):\n",
    "    return m.T @ np.linalg.inv(m @ m.T)"
   ]
  },
  {
   "cell_type": "code",
   "execution_count": 5,
   "metadata": {},
   "outputs": [
    {
     "name": "stdout",
     "output_type": "stream",
     "text": [
      "True\n",
      "True\n",
      "True\n"
     ]
    }
   ],
   "source": [
    "M = np.random.randn(4, 4)\n",
    "M_inv = get_inv(M)\n",
    "M_pinv = np.linalg.pinv(M)\n",
    "print(np.allclose(M_inv, M_pinv))\n",
    "\n",
    "H = np.random.randn(10, 5)\n",
    "H_inv = get_linv(H)\n",
    "H_pinv = np.linalg.pinv(H)\n",
    "print(np.allclose(H_inv, H_pinv))\n",
    "\n",
    "W = np.random.randn(5, 10)\n",
    "W_inv = get_rinv(W)\n",
    "W_pinv = np.linalg.pinv(W)\n",
    "print(np.allclose(W_inv, W_pinv))"
   ]
  }
 ],
 "metadata": {
  "kernelspec": {
   "display_name": "Python 3",
   "language": "python",
   "name": "python3"
  },
  "language_info": {
   "codemirror_mode": {
    "name": "ipython",
    "version": 3
   },
   "file_extension": ".py",
   "mimetype": "text/x-python",
   "name": "python",
   "nbconvert_exporter": "python",
   "pygments_lexer": "ipython3",
   "version": "3.12.3"
  }
 },
 "nbformat": 4,
 "nbformat_minor": 2
}
