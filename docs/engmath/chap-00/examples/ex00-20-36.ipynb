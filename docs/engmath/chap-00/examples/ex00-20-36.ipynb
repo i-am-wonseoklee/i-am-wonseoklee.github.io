{
 "cells": [
  {
   "cell_type": "code",
   "execution_count": 1,
   "metadata": {},
   "outputs": [
    {
     "data": {
      "text/plain": [
       "{l: -4, x: 2, y: 2}"
      ]
     },
     "metadata": {},
     "output_type": "display_data"
    },
    {
     "data": {
      "text/latex": [
       "$\\displaystyle 12$"
      ],
      "text/plain": [
       "12"
      ]
     },
     "metadata": {},
     "output_type": "display_data"
    }
   ],
   "source": [
    "from sympy import *\n",
    "x, y, l = symbols(\"x, y, l\")\n",
    "f = x**2 + 2 * y**2\n",
    "g = x + 2 * y - 6\n",
    "F = f + l * g\n",
    "dFx = diff(F, x)\n",
    "dFy = diff(F, y)\n",
    "dFl = diff(F, l)\n",
    "eqx = Eq(dFx, 0)\n",
    "eqy = Eq(dFy, 0)\n",
    "eql = Eq(dFl, 0)\n",
    "sol = solve([eqx, eqy, eql], (x, y, l))\n",
    "display(sol)\n",
    "display(F.subs([(x, sol[x]), (y, sol[y])]))"
   ]
  }
 ],
 "metadata": {
  "kernelspec": {
   "display_name": "Python 3",
   "language": "python",
   "name": "python3"
  },
  "language_info": {
   "codemirror_mode": {
    "name": "ipython",
    "version": 3
   },
   "file_extension": ".py",
   "mimetype": "text/x-python",
   "name": "python",
   "nbconvert_exporter": "python",
   "pygments_lexer": "ipython3",
   "version": "3.12.3"
  }
 },
 "nbformat": 4,
 "nbformat_minor": 2
}
