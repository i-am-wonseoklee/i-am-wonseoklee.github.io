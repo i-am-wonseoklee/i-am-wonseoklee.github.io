{
 "cells": [
  {
   "cell_type": "code",
   "execution_count": 1,
   "metadata": {},
   "outputs": [
    {
     "name": "stdout",
     "output_type": "stream",
     "text": [
      "(-3*x*z - 3*y**2)/(3*x*y + 3*z**2)\n",
      "-(x*z + y**2)/(x*y + z**2)\n"
     ]
    }
   ],
   "source": [
    "from sympy import *\n",
    "x, y, z = symbols(\"x, y, z\")\n",
    "f = x**3 + y**3 + z**3 + 3 * x * y * z\n",
    "dfy = diff(f, y)\n",
    "dfz = diff(f, z)\n",
    "print(-dfy / dfz)\n",
    "print(idiff(f, z, y))"
   ]
  }
 ],
 "metadata": {
  "kernelspec": {
   "display_name": "Python 3",
   "language": "python",
   "name": "python3"
  },
  "language_info": {
   "codemirror_mode": {
    "name": "ipython",
    "version": 3
   },
   "file_extension": ".py",
   "mimetype": "text/x-python",
   "name": "python",
   "nbconvert_exporter": "python",
   "pygments_lexer": "ipython3",
   "version": "3.12.3"
  }
 },
 "nbformat": 4,
 "nbformat_minor": 2
}
