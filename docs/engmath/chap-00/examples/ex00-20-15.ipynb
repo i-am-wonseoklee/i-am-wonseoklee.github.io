{
 "cells": [
  {
   "cell_type": "code",
   "execution_count": 1,
   "metadata": {},
   "outputs": [
    {
     "name": "stdout",
     "output_type": "stream",
     "text": [
      "y/sqrt(x**2 + y**2)\n",
      "-x*y/(x**2 + y**2)**(3/2)\n"
     ]
    }
   ],
   "source": [
    "from sympy import *\n",
    "x, y = symbols(\"x, y\")\n",
    "f = sqrt(x**2 + y**2)\n",
    "dfy = diff(f, y)\n",
    "dfxy = diff(f, x, y)\n",
    "print(dfy)\n",
    "print(dfxy)"
   ]
  }
 ],
 "metadata": {
  "kernelspec": {
   "display_name": "Python 3",
   "language": "python",
   "name": "python3"
  },
  "language_info": {
   "codemirror_mode": {
    "name": "ipython",
    "version": 3
   },
   "file_extension": ".py",
   "mimetype": "text/x-python",
   "name": "python",
   "nbconvert_exporter": "python",
   "pygments_lexer": "ipython3",
   "version": "3.12.3"
  }
 },
 "nbformat": 4,
 "nbformat_minor": 2
}
