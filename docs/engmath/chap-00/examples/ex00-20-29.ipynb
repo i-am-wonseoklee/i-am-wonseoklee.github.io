{
 "cells": [
  {
   "cell_type": "code",
   "execution_count": 1,
   "metadata": {},
   "outputs": [
    {
     "name": "stdout",
     "output_type": "stream",
     "text": [
      "(-exp(8) - exp(4) + 1 + exp(12))*exp(4)/16\n"
     ]
    }
   ],
   "source": [
    "from sympy import *\n",
    "x, y = symbols(\"x, y\")\n",
    "f = exp(x + 3 * x)\n",
    "print(simplify(integrate(f, (x, y, 5 - y), (y, 1, 2))))"
   ]
  }
 ],
 "metadata": {
  "kernelspec": {
   "display_name": "Python 3",
   "language": "python",
   "name": "python3"
  },
  "language_info": {
   "codemirror_mode": {
    "name": "ipython",
    "version": 3
   },
   "file_extension": ".py",
   "mimetype": "text/x-python",
   "name": "python",
   "nbconvert_exporter": "python",
   "pygments_lexer": "ipython3",
   "version": "3.12.3"
  }
 },
 "nbformat": 4,
 "nbformat_minor": 2
}
