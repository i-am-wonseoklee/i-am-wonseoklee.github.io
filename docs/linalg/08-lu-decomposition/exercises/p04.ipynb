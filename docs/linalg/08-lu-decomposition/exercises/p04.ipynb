{
 "cells": [
  {
   "cell_type": "code",
   "execution_count": 67,
   "metadata": {},
   "outputs": [],
   "source": [
    "import numpy as np\n",
    "import scipy"
   ]
  },
  {
   "cell_type": "code",
   "execution_count": 68,
   "metadata": {},
   "outputs": [
    {
     "name": "stdout",
     "output_type": "stream",
     "text": [
      "[[0. 0. 1. 0.]\n",
      " [0. 1. 0. 0.]\n",
      " [0. 0. 0. 1.]\n",
      " [1. 0. 0. 0.]]\n",
      "[[ 1.  0. -0. -0.]\n",
      " [-0.  1. -0. -0.]\n",
      " [ 0. -0.  1. -0.]\n",
      " [-0.  0.  0.  1.]]\n"
     ]
    }
   ],
   "source": [
    "A = np.random.rand(4, 4)\n",
    "P, L, U = scipy.linalg.lu(A)\n",
    "A_inv = np.linalg.inv(U) @ np.linalg.inv(L) @ P.T\n",
    "\n",
    "print(np.round(P, 6)) # This is transpose of row interchange matrix.\n",
    "print(np.round(A @ A_inv, 6))"
   ]
  }
 ],
 "metadata": {
  "kernelspec": {
   "display_name": "Python 3",
   "language": "python",
   "name": "python3"
  },
  "language_info": {
   "codemirror_mode": {
    "name": "ipython",
    "version": 3
   },
   "file_extension": ".py",
   "mimetype": "text/x-python",
   "name": "python",
   "nbconvert_exporter": "python",
   "pygments_lexer": "ipython3",
   "version": "3.11.1"
  }
 },
 "nbformat": 4,
 "nbformat_minor": 2
}
