{
 "cells": [
  {
   "cell_type": "code",
   "execution_count": 1,
   "metadata": {},
   "outputs": [],
   "source": [
    "import numpy as np\n",
    "import matplotlib.pyplot as plt\n",
    "import plotly.graph_objects as go"
   ]
  },
  {
   "cell_type": "code",
   "execution_count": 2,
   "metadata": {},
   "outputs": [
    {
     "data": {
      "image/png": "[encoded data removed]",
      "text/plain": [
       "<Figure size 640x480 with 1 Axes>"
      ]
     },
     "metadata": {},
     "output_type": "display_data"
    }
   ],
   "source": [
    "# 2D version.\n",
    "fig, axes = plt.subplots(1, 1)\n",
    "axes.set_xlim(-4, 4)\n",
    "axes.set_ylim(-4, 4)\n",
    "axes.set_aspect('equal')\n",
    "axes.set_xlabel('x')\n",
    "axes.set_ylabel('y')\n",
    "\n",
    "vectors = [np.array([1, 3]).reshape(-1, 1)]\n",
    "random_scalars = np.random.rand(100) * 8 - 4\n",
    "\n",
    "for s in random_scalars:\n",
    "    v = random_scalars * vectors[0]\n",
    "    axes.plot(v[0], v[1], 'orange')\n",
    "plt.show()"
   ]
  },
  {
   "cell_type": "code",
   "execution_count": 3,
   "metadata": {},
   "outputs": [
    {
     "data": {
      "application/vnd.plotly.v1+json": {
       "config": {
        "plotlyServerURL": "https://plot.ly"
       },
       "data": [
        {
         "mode": "markers",
         "type": "scatter3d",
         "x": [
          -11.077670096403857,
          -6.181280413298336,
          -0.423609645991319,
          10.958300267258561,
          5.2990398972352155,
          -1.9936542852378345,
          9.601107331379373,
          -7.3754041004510205,
          -2.927341514505274,
          6.519912765438038,
          -11.153338640875052,
          -10.307729244854318,
          -8.02245177611781,
          4.51093482779209,
          11.001451269574428,
          -3.655172742044515,
          -9.769072661056796,
          -5.745022771630296,
          -1.1619109854629892,
          11.965209814187672,
          1.0341164122765232,
          -2.773591521166022,
          5.858322661155748,
          -4.920332795367023,
          -3.949840142577804,
          -2.7183354293052986,
          8.678852101035979,
          -2.708590907378812,
          -6.996883860722211,
          -8.837001591497673,
          3.60098361729037,
          1.8263800378558344,
          -1.719967702234828,
          -7.336353665932379,
          -8.031888847139925,
          -5.392539609823931,
          -6.374174657873877,
          -0.21956948445210056,
          0.11064378072344638,
          -9.119016068679198,
          10.965607300249143,
          8.002686248379092,
          -8.20644279823982,
          -2.6234384446395733,
          10.252129644289731,
          -4.249955628661701,
          10.307718307375808,
          -2.696804611428374,
          -4.875826191469436,
          -6.047724911395824,
          -1.7220155396923644,
          5.0622753593681065,
          -9.393261905800072,
          -3.2349382683054513,
          11.228110544101893,
          6.117843994543991,
          -9.57972095465728,
          11.123010063992567,
          1.5878758309639238,
          5.320553467011422,
          -10.888065520295182,
          8.16655477548555,
          -1.3235769977344445,
          -4.155956693991011,
          -5.177670353696666,
          -6.747542790657782,
          2.645360228166912,
          -4.765319795030061,
          8.463118547746253,
          -10.911064418020441,
          -6.585829270445548,
          -8.52734082726047,
          1.9276700314686117,
          7.45345892320736,
          -9.850943263428103,
          -11.083696670399231,
          -10.79783014778425,
          11.287075256320371,
          -3.096663281878179,
          -11.491719317638623,
          1.7545849835872307,
          -0.3502505949104373,
          -10.18408042555649,
          -4.700844641636158,
          -4.583595269727516,
          10.599991062603763,
          7.556308976371298,
          -1.749385781253948,
          -2.1592582807571157,
          -11.512513939249626,
          -10.580818267213132,
          11.539666417342447,
          5.908699866462932,
          -1.5577438281276734,
          -6.94194862822268,
          4.231725959538994,
          -7.5959211901558135,
          5.979897890251825,
          11.997410191186404,
          2.3147039817673907
         ],
         "y": [
          -12.697829638492303,
          -8.821754950052707,
          6.48321657375016,
          22.822458062971783,
          7.073942752290382,
          -4.057836793228393,
          13.890608318876652,
          -11.174861925544604,
          -7.907592211073302,
          6.489987898868522,
          -18.781295831335065,
          -16.966312186330104,
          -5.485402439609187,
          4.221399058131981,
          24.43932584541806,
          -7.794684357502465,
          -16.062346310886134,
          -12.020021907631845,
          2.645279350151859,
          27.88618980883007,
          9.424277709753712,
          -4.729761071040704,
          8.707875575025733,
          -14.548240205568783,
          -10.329877839541018,
          -3.3360674566125716,
          11.6043731791278,
          0.4307519618546811,
          -14.903388780627687,
          -17.898191966168238,
          13.167785842603411,
          4.544327289794104,
          -9.91483710494694,
          -14.493978849337045,
          -17.651987293901488,
          -11.256529228852276,
          -16.615217279512347,
          0.6187391250385597,
          -0.648376686532858,
          -14.232246224829803,
          25.889788232565934,
          14.198300015737784,
          -17.417418110389782,
          2.356249557477259,
          10.412421764246906,
          -14.200597767438104,
          22.063596638225878,
          -12.100786165752815,
          -9.861011422474643,
          -15.446615930824105,
          4.2309337477056275,
          14.868305159546411,
          -14.674474875104499,
          -5.4451331099040265,
          16.704269381060122,
          3.8685891020802234,
          -12.157781178062237,
          22.04452958267931,
          5.7785190079701,
          15.033858536099329,
          -17.970386207277123,
          15.593889676301016,
          -7.7183298774168625,
          -11.53364756123457,
          -13.429793005311897,
          -17.519767901314395,
          0.10126752356450996,
          -11.874700781186327,
          18.469656961683032,
          -22.302658269505237,
          -4.828382785040107,
          -10.599460976531347,
          2.816764255398832,
          11.090254547047179,
          -22.374947417562222,
          -21.842214289870565,
          -11.067017105661446,
          21.723900772545747,
          -2.8737814915274242,
          -20.08609663148791,
          1.5224786253602751,
          3.1412329826292487,
          -17.012509802099643,
          -6.076251780421812,
          -13.946466641836395,
          10.205156362490227,
          6.984715618654075,
          -2.8121650380906003,
          2.510628430850434,
          -15.107645913138306,
          -9.733541707626634,
          21.488232997910096,
          8.620139802731881,
          3.861400146463769,
          -7.108641243658111,
          -0.698451613410195,
          -17.034723083284696,
          15.07844787069706,
          22.79918398532938,
          4.447402759743133
         ],
         "z": [
          2.0723971567128414,
          -0.5800477323215913,
          7.048029435071919,
          8.21139103996037,
          0.008556222643426814,
          -1.3996310795779472,
          1.0891318770374898,
          -1.3409897916099114,
          -4.004470191732937,
          -2.2032291217155286,
          -3.9101776435016635,
          -3.2226731931910146,
          5.211199928547893,
          -1.793180712257472,
          9.770724152652155,
          -2.9211207014431118,
          -3.0369160961437354,
          -4.359991545458117,
          4.194493997435845,
          11.93257672324651,
          8.045455826718348,
          -1.0316390428193412,
          0.8967786934847357,
          -7.987796478412753,
          -5.063424316103946,
          0.2883797824611598,
          0.03257037774649252,
          4.042206505026431,
          -5.574210299664737,
          -6.115523177504674,
          8.366474352882918,
          2.109153905986325,
          -7.621546835300504,
          -4.712173961427205,
          -6.9428021643815905,
          -4.0664764157537014,
          -8.11631773568051,
          0.9114984376413604,
          -0.7959017274974531,
          -2.0735581332575412,
          11.26897849890041,
          3.5280516845656633,
          -6.475494379403352,
          5.854167483663357,
          -3.257084428139402,
          -8.533990262555836,
          8.319972228391467,
          -8.505046683848317,
          -3.3599098338487288,
          -7.382982715629674,
          6.526954467295447,
          8.118604680388936,
          -2.1501256673710696,
          -1.1318820854967582,
          1.7334553222575977,
          -4.288536223978431,
          0.6151800948141357,
          7.213849497355888,
          3.6613512333515352,
          7.939787246750766,
          -3.4529655135502155,
          4.705149975653617,
          -5.95356054710427,
          -5.9923719692465545,
          -6.5262325337163425,
          -8.523044180437351,
          -3.4258794473247063,
          -5.520941054479579,
          7.185498898021361,
          -7.754572378811315,
          3.9527229088872913,
          0.7703267931492803,
          0.2465375467740163,
          1.1523093161040334,
          -9.240356399658083,
          -7.063952062671588,
          3.3300897580508897,
          6.674467097451921,
          1.2551028843101477,
          -4.763804207969745,
          -0.8169680194226991,
          3.608233775843165,
          -3.4337359013576574,
          0.19154107509306506,
          -7.835006282199707,
          -3.928165054314791,
          -3.0903630165076557,
          -0.4796506630853363,
          5.389639471859922,
          0.24237267252785966,
          4.374215981990878,
          6.102011108120163,
          0.7418733141146383,
          5.938391917300667,
          2.1472902606387967,
          -6.34075289279552,
          -6.906828163076947,
          7.105250683694626,
          6.802637063747507,
          1.3611307840532785
         ]
        }
       ],
       "layout": {
        "template": {
         "data": {
          "bar": [
           {
            "error_x": {
             "color": "#2a3f5f"
            },
            "error_y": {
             "color": "#2a3f5f"
            },
            "marker": {
             "line": {
              "color": "#E5ECF6",
              "width": 0.5
             },
             "pattern": {
              "fillmode": "overlay",
              "size": 10,
              "solidity": 0.2
             }
            },
            "type": "bar"
           }
          ],
          "barpolar": [
           {
            "marker": {
             "line": {
              "color": "#E5ECF6",
              "width": 0.5
             },
             "pattern": {
              "fillmode": "overlay",
              "size": 10,
              "solidity": 0.2
             }
            },
            "type": "barpolar"
           }
          ],
          "carpet": [
           {
            "aaxis": {
             "endlinecolor": "#2a3f5f",
             "gridcolor": "white",
             "linecolor": "white",
             "minorgridcolor": "white",
             "startlinecolor": "#2a3f5f"
            },
            "baxis": {
             "endlinecolor": "#2a3f5f",
             "gridcolor": "white",
             "linecolor": "white",
             "minorgridcolor": "white",
             "startlinecolor": "#2a3f5f"
            },
            "type": "carpet"
           }
          ],
          "choropleth": [
           {
            "colorbar": {
             "outlinewidth": 0,
             "ticks": ""
            },
            "type": "choropleth"
           }
          ],
          "contour": [
           {
            "colorbar": {
             "outlinewidth": 0,
             "ticks": ""
            },
            "colorscale": [
             [
              0,
              "#0d0887"
             ],
             [
              0.1111111111111111,
              "#46039f"
             ],
             [
              0.2222222222222222,
              "#7201a8"
             ],
             [
              0.3333333333333333,
              "#9c179e"
             ],
             [
              0.4444444444444444,
              "#bd3786"
             ],
             [
              0.5555555555555556,
              "#d8576b"
             ],
             [
              0.6666666666666666,
              "#ed7953"
             ],
             [
              0.7777777777777778,
              "#fb9f3a"
             ],
             [
              0.8888888888888888,
              "#fdca26"
             ],
             [
              1,
              "#f0f921"
             ]
            ],
            "type": "contour"
           }
          ],
          "contourcarpet": [
           {
            "colorbar": {
             "outlinewidth": 0,
             "ticks": ""
            },
            "type": "contourcarpet"
           }
          ],
          "heatmap": [
           {
            "colorbar": {
             "outlinewidth": 0,
             "ticks": ""
            },
            "colorscale": [
             [
              0,
              "#0d0887"
             ],
             [
              0.1111111111111111,
              "#46039f"
             ],
             [
              0.2222222222222222,
              "#7201a8"
             ],
             [
              0.3333333333333333,
              "#9c179e"
             ],
             [
              0.4444444444444444,
              "#bd3786"
             ],
             [
              0.5555555555555556,
              "#d8576b"
             ],
             [
              0.6666666666666666,
              "#ed7953"
             ],
             [
              0.7777777777777778,
              "#fb9f3a"
             ],
             [
              0.8888888888888888,
              "#fdca26"
             ],
             [
              1,
              "#f0f921"
             ]
            ],
            "type": "heatmap"
           }
          ],
          "heatmapgl": [
           {
            "colorbar": {
             "outlinewidth": 0,
             "ticks": ""
            },
            "colorscale": [
             [
              0,
              "#0d0887"
             ],
             [
              0.1111111111111111,
              "#46039f"
             ],
             [
              0.2222222222222222,
              "#7201a8"
             ],
             [
              0.3333333333333333,
              "#9c179e"
             ],
             [
              0.4444444444444444,
              "#bd3786"
             ],
             [
              0.5555555555555556,
              "#d8576b"
             ],
             [
              0.6666666666666666,
              "#ed7953"
             ],
             [
              0.7777777777777778,
              "#fb9f3a"
             ],
             [
              0.8888888888888888,
              "#fdca26"
             ],
             [
              1,
              "#f0f921"
             ]
            ],
            "type": "heatmapgl"
           }
          ],
          "histogram": [
           {
            "marker": {
             "pattern": {
              "fillmode": "overlay",
              "size": 10,
              "solidity": 0.2
             }
            },
            "type": "histogram"
           }
          ],
          "histogram2d": [
           {
            "colorbar": {
             "outlinewidth": 0,
             "ticks": ""
            },
            "colorscale": [
             [
              0,
              "#0d0887"
             ],
             [
              0.1111111111111111,
              "#46039f"
             ],
             [
              0.2222222222222222,
              "#7201a8"
             ],
             [
              0.3333333333333333,
              "#9c179e"
             ],
             [
              0.4444444444444444,
              "#bd3786"
             ],
             [
              0.5555555555555556,
              "#d8576b"
             ],
             [
              0.6666666666666666,
              "#ed7953"
             ],
             [
              0.7777777777777778,
              "#fb9f3a"
             ],
             [
              0.8888888888888888,
              "#fdca26"
             ],
             [
              1,
              "#f0f921"
             ]
            ],
            "type": "histogram2d"
           }
          ],
          "histogram2dcontour": [
           {
            "colorbar": {
             "outlinewidth": 0,
             "ticks": ""
            },
            "colorscale": [
             [
              0,
              "#0d0887"
             ],
             [
              0.1111111111111111,
              "#46039f"
             ],
             [
              0.2222222222222222,
              "#7201a8"
             ],
             [
              0.3333333333333333,
              "#9c179e"
             ],
             [
              0.4444444444444444,
              "#bd3786"
             ],
             [
              0.5555555555555556,
              "#d8576b"
             ],
             [
              0.6666666666666666,
              "#ed7953"
             ],
             [
              0.7777777777777778,
              "#fb9f3a"
             ],
             [
              0.8888888888888888,
              "#fdca26"
             ],
             [
              1,
              "#f0f921"
             ]
            ],
            "type": "histogram2dcontour"
           }
          ],
          "mesh3d": [
           {
            "colorbar": {
             "outlinewidth": 0,
             "ticks": ""
            },
            "type": "mesh3d"
           }
          ],
          "parcoords": [
           {
            "line": {
             "colorbar": {
              "outlinewidth": 0,
              "ticks": ""
             }
            },
            "type": "parcoords"
           }
          ],
          "pie": [
           {
            "automargin": true,
            "type": "pie"
           }
          ],
          "scatter": [
           {
            "fillpattern": {
             "fillmode": "overlay",
             "size": 10,
             "solidity": 0.2
            },
            "type": "scatter"
           }
          ],
          "scatter3d": [
           {
            "line": {
             "colorbar": {
              "outlinewidth": 0,
              "ticks": ""
             }
            },
            "marker": {
             "colorbar": {
              "outlinewidth": 0,
              "ticks": ""
             }
            },
            "type": "scatter3d"
           }
          ],
          "scattercarpet": [
           {
            "marker": {
             "colorbar": {
              "outlinewidth": 0,
              "ticks": ""
             }
            },
            "type": "scattercarpet"
           }
          ],
          "scattergeo": [
           {
            "marker": {
             "colorbar": {
              "outlinewidth": 0,
              "ticks": ""
             }
            },
            "type": "scattergeo"
           }
          ],
          "scattergl": [
           {
            "marker": {
             "colorbar": {
              "outlinewidth": 0,
              "ticks": ""
             }
            },
            "type": "scattergl"
           }
          ],
          "scattermapbox": [
           {
            "marker": {
             "colorbar": {
              "outlinewidth": 0,
              "ticks": ""
             }
            },
            "type": "scattermapbox"
           }
          ],
          "scatterpolar": [
           {
            "marker": {
             "colorbar": {
              "outlinewidth": 0,
              "ticks": ""
             }
            },
            "type": "scatterpolar"
           }
          ],
          "scatterpolargl": [
           {
            "marker": {
             "colorbar": {
              "outlinewidth": 0,
              "ticks": ""
             }
            },
            "type": "scatterpolargl"
           }
          ],
          "scatterternary": [
           {
            "marker": {
             "colorbar": {
              "outlinewidth": 0,
              "ticks": ""
             }
            },
            "type": "scatterternary"
           }
          ],
          "surface": [
           {
            "colorbar": {
             "outlinewidth": 0,
             "ticks": ""
            },
            "colorscale": [
             [
              0,
              "#0d0887"
             ],
             [
              0.1111111111111111,
              "#46039f"
             ],
             [
              0.2222222222222222,
              "#7201a8"
             ],
             [
              0.3333333333333333,
              "#9c179e"
             ],
             [
              0.4444444444444444,
              "#bd3786"
             ],
             [
              0.5555555555555556,
              "#d8576b"
             ],
             [
              0.6666666666666666,
              "#ed7953"
             ],
             [
              0.7777777777777778,
              "#fb9f3a"
             ],
             [
              0.8888888888888888,
              "#fdca26"
             ],
             [
              1,
              "#f0f921"
             ]
            ],
            "type": "surface"
           }
          ],
          "table": [
           {
            "cells": {
             "fill": {
              "color": "#EBF0F8"
             },
             "line": {
              "color": "white"
             }
            },
            "header": {
             "fill": {
              "color": "#C8D4E3"
             },
             "line": {
              "color": "white"
             }
            },
            "type": "table"
           }
          ]
         },
         "layout": {
          "annotationdefaults": {
           "arrowcolor": "#2a3f5f",
           "arrowhead": 0,
           "arrowwidth": 1
          },
          "autotypenumbers": "strict",
          "coloraxis": {
           "colorbar": {
            "outlinewidth": 0,
            "ticks": ""
           }
          },
          "colorscale": {
           "diverging": [
            [
             0,
             "#8e0152"
            ],
            [
             0.1,
             "#c51b7d"
            ],
            [
             0.2,
             "#de77ae"
            ],
            [
             0.3,
             "#f1b6da"
            ],
            [
             0.4,
             "#fde0ef"
            ],
            [
             0.5,
             "#f7f7f7"
            ],
            [
             0.6,
             "#e6f5d0"
            ],
            [
             0.7,
             "#b8e186"
            ],
            [
             0.8,
             "#7fbc41"
            ],
            [
             0.9,
             "#4d9221"
            ],
            [
             1,
             "#276419"
            ]
           ],
           "sequential": [
            [
             0,
             "#0d0887"
            ],
            [
             0.1111111111111111,
             "#46039f"
            ],
            [
             0.2222222222222222,
             "#7201a8"
            ],
            [
             0.3333333333333333,
             "#9c179e"
            ],
            [
             0.4444444444444444,
             "#bd3786"
            ],
            [
             0.5555555555555556,
             "#d8576b"
            ],
            [
             0.6666666666666666,
             "#ed7953"
            ],
            [
             0.7777777777777778,
             "#fb9f3a"
            ],
            [
             0.8888888888888888,
             "#fdca26"
            ],
            [
             1,
             "#f0f921"
            ]
           ],
           "sequentialminus": [
            [
             0,
             "#0d0887"
            ],
            [
             0.1111111111111111,
             "#46039f"
            ],
            [
             0.2222222222222222,
             "#7201a8"
            ],
            [
             0.3333333333333333,
             "#9c179e"
            ],
            [
             0.4444444444444444,
             "#bd3786"
            ],
            [
             0.5555555555555556,
             "#d8576b"
            ],
            [
             0.6666666666666666,
             "#ed7953"
            ],
            [
             0.7777777777777778,
             "#fb9f3a"
            ],
            [
             0.8888888888888888,
             "#fdca26"
            ],
            [
             1,
             "#f0f921"
            ]
           ]
          },
          "colorway": [
           "#636efa",
           "#EF553B",
           "#00cc96",
           "#ab63fa",
           "#FFA15A",
           "#19d3f3",
           "#FF6692",
           "#B6E880",
           "#FF97FF",
           "#FECB52"
          ],
          "font": {
           "color": "#2a3f5f"
          },
          "geo": {
           "bgcolor": "white",
           "lakecolor": "white",
           "landcolor": "#E5ECF6",
           "showlakes": true,
           "showland": true,
           "subunitcolor": "white"
          },
          "hoverlabel": {
           "align": "left"
          },
          "hovermode": "closest",
          "mapbox": {
           "style": "light"
          },
          "paper_bgcolor": "white",
          "plot_bgcolor": "#E5ECF6",
          "polar": {
           "angularaxis": {
            "gridcolor": "white",
            "linecolor": "white",
            "ticks": ""
           },
           "bgcolor": "#E5ECF6",
           "radialaxis": {
            "gridcolor": "white",
            "linecolor": "white",
            "ticks": ""
           }
          },
          "scene": {
           "xaxis": {
            "backgroundcolor": "#E5ECF6",
            "gridcolor": "white",
            "gridwidth": 2,
            "linecolor": "white",
            "showbackground": true,
            "ticks": "",
            "zerolinecolor": "white"
           },
           "yaxis": {
            "backgroundcolor": "#E5ECF6",
            "gridcolor": "white",
            "gridwidth": 2,
            "linecolor": "white",
            "showbackground": true,
            "ticks": "",
            "zerolinecolor": "white"
           },
           "zaxis": {
            "backgroundcolor": "#E5ECF6",
            "gridcolor": "white",
            "gridwidth": 2,
            "linecolor": "white",
            "showbackground": true,
            "ticks": "",
            "zerolinecolor": "white"
           }
          },
          "shapedefaults": {
           "line": {
            "color": "#2a3f5f"
           }
          },
          "ternary": {
           "aaxis": {
            "gridcolor": "white",
            "linecolor": "white",
            "ticks": ""
           },
           "baxis": {
            "gridcolor": "white",
            "linecolor": "white",
            "ticks": ""
           },
           "bgcolor": "#E5ECF6",
           "caxis": {
            "gridcolor": "white",
            "linecolor": "white",
            "ticks": ""
           }
          },
          "title": {
           "x": 0.05
          },
          "xaxis": {
           "automargin": true,
           "gridcolor": "white",
           "linecolor": "white",
           "ticks": "",
           "title": {
            "standoff": 15
           },
           "zerolinecolor": "white",
           "zerolinewidth": 2
          },
          "yaxis": {
           "automargin": true,
           "gridcolor": "white",
           "linecolor": "white",
           "ticks": "",
           "title": {
            "standoff": 15
           },
           "zerolinecolor": "white",
           "zerolinewidth": 2
          }
         }
        }
       }
      }
     },
     "metadata": {},
     "output_type": "display_data"
    }
   ],
   "source": [
    "vectors = [np.array([3, 5, 1]).reshape(-1, 1), np.array([0, 2, 2]).reshape(-1, 1)]\n",
    "scalars = np.random.rand(100, 2) * 8 - 4\n",
    "points = []\n",
    "for (s0, s1) in scalars:\n",
    "    v = s0 * vectors[0] + s1 * vectors[1]\n",
    "    points += [v.flatten()]\n",
    "points = np.array(points)\n",
    "fig = go.Figure(data=[go.Scatter3d(x=points[:, 0], y=points[:, 1], z=points[:, 2], mode='markers')])\n",
    "fig.show() # This will open a new browser window with the plot (not working in notebook)."
   ]
  }
 ],
 "metadata": {
  "kernelspec": {
   "display_name": "Python 3",
   "language": "python",
   "name": "python3"
  },
  "language_info": {
   "codemirror_mode": {
    "name": "ipython",
    "version": 3
   },
   "file_extension": ".py",
   "mimetype": "text/x-python",
   "name": "python",
   "nbconvert_exporter": "python",
   "pygments_lexer": "ipython3",
   "version": "3.12.3"
  }
 },
 "nbformat": 4,
 "nbformat_minor": 2
}
