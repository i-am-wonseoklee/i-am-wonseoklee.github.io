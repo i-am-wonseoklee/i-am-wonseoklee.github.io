{
 "cells": [
  {
   "cell_type": "code",
   "execution_count": 15,
   "metadata": {},
   "outputs": [],
   "source": [
    "import numpy as np\n",
    "import sympy"
   ]
  },
  {
   "cell_type": "code",
   "execution_count": 16,
   "metadata": {},
   "outputs": [],
   "source": [
    "NUMBER_OF_COURSES = np.array([13,4,12,3,14,13,12,9,11,7,13,11,9,2,5,7,10,0,9,7]).reshape(-1, 1)\n",
    "HAPPINESS_SCORE = np.array([70,25,54,21,80,68,84,62,57,40,60,64,45,38,51,52,58,21,75,70]).reshape(-1, 1)"
   ]
  },
  {
   "cell_type": "code",
   "execution_count": 17,
   "metadata": {},
   "outputs": [],
   "source": [
    "# X @ beta = y\n",
    "X = np.hstack((np.ones_like(NUMBER_OF_COURSES), NUMBER_OF_COURSES))\n",
    "y = HAPPINESS_SCORE"
   ]
  },
  {
   "cell_type": "code",
   "execution_count": 18,
   "metadata": {},
   "outputs": [],
   "source": [
    "# Calculate beta straightforwardly.\n",
    "beta_1 = np.linalg.inv(X.T @ X) @ X.T @ y"
   ]
  },
  {
   "cell_type": "code",
   "execution_count": 19,
   "metadata": {},
   "outputs": [],
   "source": [
    "# Calculate beta using QR decomposition.\n",
    "# X @ beta = y\n",
    "# => Q @ R @ beta = y\n",
    "# => R @ beta = Q.T @ y\n",
    "# => beta = R^(-1) @ Q.T @ y\n",
    "Q, R = np.linalg.qr(X)\n",
    "beta_2 = np.linalg.inv(R) @ Q.T @ y"
   ]
  },
  {
   "cell_type": "code",
   "execution_count": 20,
   "metadata": {},
   "outputs": [],
   "source": [
    "# Calculate beta using QR decomposition, but do not calculate inv of R.\n",
    "Q, R = np.linalg.qr(X)\n",
    "AUG = np.hstack((R, Q.T @ y))\n",
    "rref = sympy.Matrix(AUG).rref()[0]\n",
    "beta_3 = rref[:, -1]"
   ]
  },
  {
   "cell_type": "code",
   "execution_count": 21,
   "metadata": {},
   "outputs": [
    {
     "name": "stdout",
     "output_type": "stream",
     "text": [
      "beta_1: [[23.13033815]\n",
      " [ 3.69820606]]\n",
      "beta_2: [[23.13033815]\n",
      " [ 3.69820606]]\n",
      "beta_3: Matrix([[23.1303381489125], [3.69820606445468]])\n",
      "R: [[ -4.47213595 -38.23676242]\n",
      " [  0.          17.7468307 ]]\n",
      "Augmented: [[  -4.47213595  -38.23676242 -244.84944354]\n",
      " [   0.           17.7468307    65.63143693]]\n",
      "RREF(Augmented): Matrix([[1, 0, 23.1303381489125], [0.0, 1, 3.69820606445468]])\n"
     ]
    }
   ],
   "source": [
    "print(f\"beta_1: {beta_1}\")\n",
    "print(f\"beta_2: {beta_2}\")\n",
    "print(f\"beta_3: {beta_3}\")\n",
    "print(f\"R: {R}\")\n",
    "print(f\"Augmented: {AUG}\")\n",
    "print(f\"RREF(Augmented): {rref}\")"
   ]
  }
 ],
 "metadata": {
  "kernelspec": {
   "display_name": "Python 3",
   "language": "python",
   "name": "python3"
  },
  "language_info": {
   "codemirror_mode": {
    "name": "ipython",
    "version": 3
   },
   "file_extension": ".py",
   "mimetype": "text/x-python",
   "name": "python",
   "nbconvert_exporter": "python",
   "pygments_lexer": "ipython3",
   "version": "3.11.1"
  }
 },
 "nbformat": 4,
 "nbformat_minor": 2
}
