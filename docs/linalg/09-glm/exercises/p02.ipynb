{
 "cells": [
  {
   "cell_type": "code",
   "execution_count": 13,
   "metadata": {},
   "outputs": [],
   "source": [
    "import matplotlib.pyplot as plt\n",
    "import numpy as np"
   ]
  },
  {
   "cell_type": "code",
   "execution_count": 14,
   "metadata": {},
   "outputs": [],
   "source": [
    "NUMBER_OF_COURSES = np.array([13,4,12,3,14,13,12,9,11,7,13,11,9,2,5,7,10,0,9,7]).reshape(-1, 1)\n",
    "HAPPINESS_SCORE = np.array([70,25,54,21,80,68,84,62,57,40,60,64,45,38,51,52,58,21,75,70]).reshape(-1, 1)"
   ]
  },
  {
   "cell_type": "code",
   "execution_count": 15,
   "metadata": {},
   "outputs": [
    {
     "name": "stdout",
     "output_type": "stream",
     "text": [
      "Rank of X: 2\n",
      "Rank of X | res: 3\n"
     ]
    }
   ],
   "source": [
    "X = np.hstack((np.ones_like(NUMBER_OF_COURSES), NUMBER_OF_COURSES))\n",
    "beta = np.linalg.inv(X.T @ X) @ X.T @ HAPPINESS_SCORE\n",
    "pred = X @ beta\n",
    "resi = HAPPINESS_SCORE - pred\n",
    "print(f\"Rank of X: {np.linalg.matrix_rank(X)}\")\n",
    "\n",
    "X_aug = np.hstack((X, resi))\n",
    "print(f\"Rank of X | res: {np.linalg.matrix_rank(X_aug)}\")"
   ]
  }
 ],
 "metadata": {
  "kernelspec": {
   "display_name": "Python 3",
   "language": "python",
   "name": "python3"
  },
  "language_info": {
   "codemirror_mode": {
    "name": "ipython",
    "version": 3
   },
   "file_extension": ".py",
   "mimetype": "text/x-python",
   "name": "python",
   "nbconvert_exporter": "python",
   "pygments_lexer": "ipython3",
   "version": "3.11.1"
  }
 },
 "nbformat": 4,
 "nbformat_minor": 2
}
