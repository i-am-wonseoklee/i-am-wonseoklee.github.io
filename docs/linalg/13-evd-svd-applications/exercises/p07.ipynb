{
 "cells": [
  {
   "cell_type": "code",
   "execution_count": 5,
   "metadata": {},
   "outputs": [],
   "source": [
    "import matplotlib.pyplot as plt\n",
    "import numpy as np\n",
    "import scipy"
   ]
  },
  {
   "cell_type": "code",
   "execution_count": 6,
   "metadata": {},
   "outputs": [],
   "source": [
    "class0 = np.random.normal(0, 1, (200, 2))\n",
    "class0[:, 0] += class0[:, 1]\n",
    "class0 += np.array([2, -1])\n",
    "\n",
    "class1 = np.random.normal(0, 1, (200, 2))\n",
    "class1[:, 0] += class1[:, 1]\n",
    "\n",
    "data = np.vstack((class0, class1))\n",
    "label = np.vstack((np.zeros((200, 1)), np.ones((200, 1))))"
   ]
  },
  {
   "cell_type": "code",
   "execution_count": 7,
   "metadata": {},
   "outputs": [],
   "source": [
    "cov_within_class0 = class0.T @ class0 / (class0.shape[0] - 1)\n",
    "cov_within_class1 = class1.T @ class1 / (class1.shape[0] - 1)\n",
    "cov_within = (cov_within_class0 + cov_within_class1) * 0.5\n",
    "\n",
    "means = np.vstack((np.mean(class0, axis=0), np.mean(class1, axis=0)))\n",
    "cov_between = means.T @ means / (means.shape[0] - 1)"
   ]
  },
  {
   "cell_type": "code",
   "execution_count": 8,
   "metadata": {},
   "outputs": [],
   "source": [
    "evals, evecs = scipy.linalg.eigh(cov_between, cov_within)\n",
    "idx = np.argsort(evals)[::-1]\n",
    "evals = evals[idx]\n",
    "evecs = evecs[:, idx]"
   ]
  },
  {
   "cell_type": "code",
   "execution_count": 9,
   "metadata": {},
   "outputs": [
    {
     "name": "stdout",
     "output_type": "stream",
     "text": [
      "[[0.24839585 0.01866231]\n",
      " [0.01866231 0.70084511]]\n",
      "[[1.00000000e+00 5.58218105e-17]\n",
      " [1.11612991e-16 1.00000000e+00]]\n"
     ]
    }
   ],
   "source": [
    "print(evecs @ evecs.T)\n",
    "print(evecs.T @ cov_within @ evecs)"
   ]
  }
 ],
 "metadata": {
  "kernelspec": {
   "display_name": "Python 3",
   "language": "python",
   "name": "python3"
  },
  "language_info": {
   "codemirror_mode": {
    "name": "ipython",
    "version": 3
   },
   "file_extension": ".py",
   "mimetype": "text/x-python",
   "name": "python",
   "nbconvert_exporter": "python",
   "pygments_lexer": "ipython3",
   "version": "3.11.1"
  }
 },
 "nbformat": 4,
 "nbformat_minor": 2
}
