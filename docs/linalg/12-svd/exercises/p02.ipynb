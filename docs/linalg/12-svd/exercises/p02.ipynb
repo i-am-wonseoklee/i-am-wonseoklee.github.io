{
 "cells": [
  {
   "cell_type": "code",
   "execution_count": 3,
   "metadata": {},
   "outputs": [],
   "source": [
    "import numpy as np"
   ]
  },
  {
   "cell_type": "code",
   "execution_count": 4,
   "metadata": {},
   "outputs": [
    {
     "name": "stdout",
     "output_type": "stream",
     "text": [
      "[[ 0.589072  0.774396]\n",
      " [-0.787044  0.485051]\n",
      " [ 0.183185 -0.406246]]\n",
      "[[ 0.091358  0.995818]\n",
      " [ 0.995818 -0.091358]]\n"
     ]
    }
   ],
   "source": [
    "TALL = np.random.randn(3, 2)\n",
    "WIDE = np.random.randn(2, 3)\n",
    "\n",
    "U_tall, s_tall, VT_tall = np.linalg.svd(TALL, full_matrices=False)\n",
    "U_wide, s_wide, VT_wide = np.linalg.svd(WIDE, full_matrices=False)\n",
    "\n",
    "print(np.round(U_tall, 6))\n",
    "print(np.round(U_wide, 6))"
   ]
  }
 ],
 "metadata": {
  "kernelspec": {
   "display_name": "Python 3",
   "language": "python",
   "name": "python3"
  },
  "language_info": {
   "codemirror_mode": {
    "name": "ipython",
    "version": 3
   },
   "file_extension": ".py",
   "mimetype": "text/x-python",
   "name": "python",
   "nbconvert_exporter": "python",
   "pygments_lexer": "ipython3",
   "version": "3.11.1"
  }
 },
 "nbformat": 4,
 "nbformat_minor": 2
}
