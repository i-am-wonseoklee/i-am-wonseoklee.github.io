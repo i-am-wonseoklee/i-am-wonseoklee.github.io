{
 "cells": [
  {
   "cell_type": "code",
   "execution_count": 5,
   "metadata": {},
   "outputs": [],
   "source": [
    "import numpy as np"
   ]
  },
  {
   "cell_type": "code",
   "execution_count": 6,
   "metadata": {},
   "outputs": [
    {
     "name": "stdout",
     "output_type": "stream",
     "text": [
      "2.028632710332514\n",
      "2.0286327103325137\n"
     ]
    }
   ],
   "source": [
    "# | Uw | = sqrt(w^T U^T U w) = sqrt(w^T w) = | w |\n",
    "RM = np.random.randn(5, 5)\n",
    "RV = np.random.randn(5, 1)\n",
    "\n",
    "U, _, _ = np.linalg.svd(RM)\n",
    "print(np.linalg.norm(RV))\n",
    "print(np.linalg.norm(U @ RV))"
   ]
  }
 ],
 "metadata": {
  "kernelspec": {
   "display_name": "Python 3",
   "language": "python",
   "name": "python3"
  },
  "language_info": {
   "codemirror_mode": {
    "name": "ipython",
    "version": 3
   },
   "file_extension": ".py",
   "mimetype": "text/x-python",
   "name": "python",
   "nbconvert_exporter": "python",
   "pygments_lexer": "ipython3",
   "version": "3.11.1"
  }
 },
 "nbformat": 4,
 "nbformat_minor": 2
}
