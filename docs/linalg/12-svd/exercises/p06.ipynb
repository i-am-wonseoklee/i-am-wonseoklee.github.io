{
 "cells": [
  {
   "cell_type": "code",
   "execution_count": 1,
   "metadata": {},
   "outputs": [],
   "source": [
    "import numpy as np"
   ]
  },
  {
   "cell_type": "code",
   "execution_count": 2,
   "metadata": {},
   "outputs": [
    {
     "name": "stdout",
     "output_type": "stream",
     "text": [
      "[[ 0.1511   -0.176949  1.301186  0.402957 -0.878355]\n",
      " [-0.107809  0.011936 -0.431818 -0.222698  0.15213 ]\n",
      " [-0.064846 -0.465278  0.910066  0.16987  -0.866856]\n",
      " [ 0.0536    0.30937  -0.800285 -0.082491  0.830227]\n",
      " [-0.141    -0.219365  0.610721 -0.164356 -0.952436]]\n",
      "[[ 0.1511   -0.176949  1.301186  0.402957 -0.878355]\n",
      " [-0.107809  0.011936 -0.431818 -0.222698  0.15213 ]\n",
      " [-0.064846 -0.465278  0.910066  0.16987  -0.866856]\n",
      " [ 0.0536    0.30937  -0.800285 -0.082491  0.830227]\n",
      " [-0.141    -0.219365  0.610721 -0.164356 -0.952436]]\n"
     ]
    }
   ],
   "source": [
    "R3 = np.random.randn(5, 3) @ np.random.randn(3, 5)\n",
    "U, s, Vt = np.linalg.svd(R3)\n",
    "S_inv = np.zeros((5, 5))\n",
    "s_inv = np.array(list(map(lambda x: 1 / x if x > 1e-6 else 0, s)))\n",
    "np.fill_diagonal(S_inv, s_inv)\n",
    "R3_inv = Vt.T @ S_inv @ U.T\n",
    "R3_pinv = np.linalg.pinv(R3)\n",
    "\n",
    "print(np.round(R3_inv, 6))\n",
    "print(np.round(R3_pinv, 6))"
   ]
  }
 ],
 "metadata": {
  "kernelspec": {
   "display_name": "Python 3",
   "language": "python",
   "name": "python3"
  },
  "language_info": {
   "codemirror_mode": {
    "name": "ipython",
    "version": 3
   },
   "file_extension": ".py",
   "mimetype": "text/x-python",
   "name": "python",
   "nbconvert_exporter": "python",
   "pygments_lexer": "ipython3",
   "version": "3.11.1"
  }
 },
 "nbformat": 4,
 "nbformat_minor": 2
}
