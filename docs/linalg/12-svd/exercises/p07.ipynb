{
 "cells": [
  {
   "cell_type": "code",
   "execution_count": 1,
   "metadata": {},
   "outputs": [],
   "source": [
    "import numpy as np"
   ]
  },
  {
   "cell_type": "code",
   "execution_count": 2,
   "metadata": {},
   "outputs": [],
   "source": [
    "TALL = np.random.randn(5, 3)\n",
    "WIDE = np.random.randn(3, 5)"
   ]
  },
  {
   "cell_type": "code",
   "execution_count": 3,
   "metadata": {},
   "outputs": [
    {
     "name": "stdout",
     "output_type": "stream",
     "text": [
      "[[-0. -0. -0. -0. -0.]\n",
      " [ 0.  0. -0. -0. -0.]\n",
      " [-0. -0. -0. -0.  0.]]\n"
     ]
    }
   ],
   "source": [
    "A = TALL\n",
    "linv = np.linalg.inv(A.T @ A) @ A.T\n",
    "pinv = np.linalg.pinv(A)\n",
    "\n",
    "print(np.round(linv - pinv, 6))"
   ]
  },
  {
   "cell_type": "code",
   "execution_count": 4,
   "metadata": {},
   "outputs": [
    {
     "name": "stdout",
     "output_type": "stream",
     "text": [
      "[[ 0. -0. -0.]\n",
      " [-0.  0. -0.]\n",
      " [-0.  0.  0.]\n",
      " [ 0. -0. -0.]\n",
      " [ 0.  0.  0.]]\n"
     ]
    }
   ],
   "source": [
    "A = WIDE\n",
    "rinv = A.T @ np.linalg.inv(A @ A.T)\n",
    "pinv = np.linalg.pinv(A)\n",
    "\n",
    "print(np.round(rinv - pinv, 6))"
   ]
  }
 ],
 "metadata": {
  "kernelspec": {
   "display_name": "Python 3",
   "language": "python",
   "name": "python3"
  },
  "language_info": {
   "codemirror_mode": {
    "name": "ipython",
    "version": 3
   },
   "file_extension": ".py",
   "mimetype": "text/x-python",
   "name": "python",
   "nbconvert_exporter": "python",
   "pygments_lexer": "ipython3",
   "version": "3.11.1"
  }
 },
 "nbformat": 4,
 "nbformat_minor": 2
}
