{
 "cells": [
  {
   "cell_type": "code",
   "execution_count": 4,
   "metadata": {},
   "outputs": [],
   "source": [
    "import numpy as np"
   ]
  },
  {
   "cell_type": "code",
   "execution_count": 5,
   "metadata": {},
   "outputs": [],
   "source": [
    "A = np.random.randn(5, 5)\n",
    "MUL = A.T @ A\n",
    "PLS = A.T + A"
   ]
  },
  {
   "cell_type": "code",
   "execution_count": 6,
   "metadata": {},
   "outputs": [
    {
     "name": "stdout",
     "output_type": "stream",
     "text": [
      "[[ 0.756551  0.233571 -0.595144  0.088067  0.105463]\n",
      " [ 0.567252 -0.292214  0.471688 -0.506544 -0.337283]\n",
      " [-0.16823  -0.566007 -0.536837  0.038652 -0.601371]\n",
      " [-0.0894    0.717122  0.043498 -0.01408  -0.689676]\n",
      " [-0.263745  0.159463 -0.365004 -0.856718  0.194467]]\n",
      "[[-0.756551  0.233571 -0.595144  0.105463 -0.088067]\n",
      " [-0.567252 -0.292214  0.471688 -0.337283  0.506544]\n",
      " [ 0.16823  -0.566007 -0.536837 -0.601371 -0.038652]\n",
      " [ 0.0894    0.717122  0.043498 -0.689676  0.01408 ]\n",
      " [ 0.263745  0.159463 -0.365004  0.194467  0.856718]]\n"
     ]
    }
   ],
   "source": [
    "evals, evecs = np.linalg.eig(MUL)\n",
    "U, _, VT = np.linalg.svd(MUL)\n",
    "\n",
    "print(np.round(evecs, 6))\n",
    "print(np.round(U, 6))"
   ]
  },
  {
   "cell_type": "code",
   "execution_count": 7,
   "metadata": {},
   "outputs": [
    {
     "name": "stdout",
     "output_type": "stream",
     "text": [
      "[[ 0.221722 -0.639468 -0.214889  0.698692  0.087018]\n",
      " [-0.142671  0.202757  0.494368  0.285408  0.782737]\n",
      " [-0.43641   0.152893  0.452636  0.490347 -0.583825]\n",
      " [ 0.849405  0.378759  0.266111  0.18104  -0.177374]\n",
      " [-0.136166  0.61898  -0.65858   0.396429  0.086246]]\n",
      "[[ 0.221722 -0.087018  0.698692  0.639468  0.214889]\n",
      " [-0.142671 -0.782737  0.285408 -0.202757 -0.494368]\n",
      " [-0.43641   0.583825  0.490347 -0.152893 -0.452636]\n",
      " [ 0.849405  0.177374  0.18104  -0.378759 -0.266111]\n",
      " [-0.136166 -0.086246  0.396429 -0.61898   0.65858 ]]\n"
     ]
    }
   ],
   "source": [
    "evals, evecs = np.linalg.eig(PLS)\n",
    "U, _, VT = np.linalg.svd(PLS)\n",
    "\n",
    "print(np.round(evecs, 6))\n",
    "print(np.round(U, 6))"
   ]
  }
 ],
 "metadata": {
  "kernelspec": {
   "display_name": "Python 3",
   "language": "python",
   "name": "python3"
  },
  "language_info": {
   "codemirror_mode": {
    "name": "ipython",
    "version": 3
   },
   "file_extension": ".py",
   "mimetype": "text/x-python",
   "name": "python",
   "nbconvert_exporter": "python",
   "pygments_lexer": "ipython3",
   "version": "3.11.1"
  }
 },
 "nbformat": 4,
 "nbformat_minor": 2
}
