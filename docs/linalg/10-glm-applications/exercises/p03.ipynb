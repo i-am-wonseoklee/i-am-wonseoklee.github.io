{
 "cells": [
  {
   "cell_type": "code",
   "execution_count": 45,
   "metadata": {},
   "outputs": [],
   "source": [
    "import io\n",
    "import numpy as np\n",
    "import pandas as pd\n",
    "import requests\n",
    "import statsmodels.api as sm"
   ]
  },
  {
   "cell_type": "code",
   "execution_count": 46,
   "metadata": {},
   "outputs": [],
   "source": [
    "URL = \"https://archive.ics.uci.edu/ml/machine-learning-databases/00560/SeoulBikeData.csv\"\n",
    "df = pd.read_csv(io.BytesIO(requests.get(URL).content), sep=\",\", encoding=\"unicode_escape\")"
   ]
  },
  {
   "cell_type": "code",
   "execution_count": 47,
   "metadata": {},
   "outputs": [],
   "source": [
    "data = df[[\"Rented Bike Count\", \"Rainfall(mm)\", \"Temperature(°C)\"]].to_numpy().astype(np.float64)\n",
    "data = np.hstack((data, data[:, 1:] @ np.array([3, 2]).reshape(-1, 1))) # Some linear combination.\n",
    "x = data[:, 1:]\n",
    "y = data[:, 0]\n",
    "desmat = np.hstack((x, np.ones((x.shape[0], 1))))"
   ]
  },
  {
   "cell_type": "code",
   "execution_count": 48,
   "metadata": {},
   "outputs": [
    {
     "name": "stdout",
     "output_type": "stream",
     "text": [
      "Design matrix size: (8760, 4)\n",
      "Design matrix rank: 3\n",
      "Correlation matrix of design matrix:\n",
      "[[1.         0.05028186 0.18874589        nan]\n",
      " [0.05028186 1.         0.99027426        nan]\n",
      " [0.18874589 0.99027426 1.                nan]\n",
      " [       nan        nan        nan        nan]]\n"
     ]
    },
    {
     "name": "stderr",
     "output_type": "stream",
     "text": [
      "/Library/Frameworks/Python.framework/Versions/3.11/lib/python3.11/site-packages/numpy/lib/function_base.py:2854: RuntimeWarning: invalid value encountered in divide\n",
      "  c /= stddev[:, None]\n",
      "/Library/Frameworks/Python.framework/Versions/3.11/lib/python3.11/site-packages/numpy/lib/function_base.py:2855: RuntimeWarning: invalid value encountered in divide\n",
      "  c /= stddev[None, :]\n"
     ]
    }
   ],
   "source": [
    "print(f\"Design matrix size: {desmat.shape}\")\n",
    "print(f\"Design matrix rank: {np.linalg.matrix_rank(desmat)}\")\n",
    "print(f\"Correlation matrix of design matrix:\\n{np.corrcoef(desmat.T)}\")"
   ]
  },
  {
   "cell_type": "code",
   "execution_count": 49,
   "metadata": {},
   "outputs": [],
   "source": [
    "# Method 1.\n",
    "beta_1 = np.linalg.inv(desmat.T @ desmat) @ desmat.T @ y\n",
    "rsq_1 = np.corrcoef(desmat @ beta_1, y)[0, 1]**2"
   ]
  },
  {
   "cell_type": "code",
   "execution_count": 50,
   "metadata": {},
   "outputs": [],
   "source": [
    "# Method 2.\n",
    "beta_2 = np.linalg.lstsq(desmat, y, rcond=None)[0]\n",
    "rsq_2 = np.corrcoef(desmat @ beta_2, y)[0, 1]**2"
   ]
  },
  {
   "cell_type": "code",
   "execution_count": 51,
   "metadata": {},
   "outputs": [],
   "source": [
    "# Method 3.\n",
    "model = sm.OLS(y, sm.add_constant(x)).fit()\n",
    "beta_3 = model.params\n",
    "rsq_3 = model.rsquared"
   ]
  },
  {
   "cell_type": "code",
   "execution_count": 52,
   "metadata": {},
   "outputs": [
    {
     "name": "stdout",
     "output_type": "stream",
     "text": [
      "R^2:\n",
      "\tleft-inverse       : 0.264760\n",
      "\tnp.linalg.lstsq    : 0.312648\n",
      "\tstatsmodels.api.OLS: 0.312648\n",
      "beta:\n",
      "\tleft-inverse       : [ 12.72950902  10.3442932    7.96516844 337.48329388]\n",
      "\tnp.linalg.lstsq    : [-43.37481759  57.94774471 -14.22896334 337.48329388]\n",
      "\tstatsmodels.api.OLS: [337.48329388 -43.37481759  57.94774471 -14.22896334]\n"
     ]
    }
   ],
   "source": [
    "print(\"R^2:\")\n",
    "print(f\"\\tleft-inverse       : {rsq_1:.6f}\")\n",
    "print(f\"\\tnp.linalg.lstsq    : {rsq_2:.6f}\")\n",
    "print(f\"\\tstatsmodels.api.OLS: {rsq_3:.6f}\")\n",
    "\n",
    "print(\"beta:\")\n",
    "print(f\"\\tleft-inverse       : {beta_1.T}\")\n",
    "print(f\"\\tnp.linalg.lstsq    : {beta_2.T}\")\n",
    "print(f\"\\tstatsmodels.api.OLS: {beta_3.T}\")"
   ]
  }
 ],
 "metadata": {
  "kernelspec": {
   "display_name": "Python 3",
   "language": "python",
   "name": "python3"
  },
  "language_info": {
   "codemirror_mode": {
    "name": "ipython",
    "version": 3
   },
   "file_extension": ".py",
   "mimetype": "text/x-python",
   "name": "python",
   "nbconvert_exporter": "python",
   "pygments_lexer": "ipython3",
   "version": "3.11.1"
  }
 },
 "nbformat": 4,
 "nbformat_minor": 2
}
