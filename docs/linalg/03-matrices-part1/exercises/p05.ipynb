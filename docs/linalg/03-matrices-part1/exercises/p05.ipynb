{
 "cells": [
  {
   "cell_type": "code",
   "execution_count": 9,
   "metadata": {},
   "outputs": [
    {
     "name": "stdout",
     "output_type": "stream",
     "text": [
      "True\n",
      "True\n",
      "True\n"
     ]
    }
   ],
   "source": [
    "import numpy as np\n",
    "\n",
    "A = np.random.randn(3, 4)\n",
    "B = np.random.randn(3, 4)\n",
    "sigma = np.random.randn()\n",
    "\n",
    "r0 = sigma * (A + B)\n",
    "r1 = sigma * A + sigma * B\n",
    "r2 = A * sigma + B * sigma\n",
    "\n",
    "print(np.allclose(r0, r1))\n",
    "print(np.allclose(r1, r2))\n",
    "print(np.allclose(r0, r2))"
   ]
  }
 ],
 "metadata": {
  "kernelspec": {
   "display_name": "Python 3",
   "language": "python",
   "name": "python3"
  },
  "language_info": {
   "codemirror_mode": {
    "name": "ipython",
    "version": 3
   },
   "file_extension": ".py",
   "mimetype": "text/x-python",
   "name": "python",
   "nbconvert_exporter": "python",
   "pygments_lexer": "ipython3",
   "version": "3.12.3"
  }
 },
 "nbformat": 4,
 "nbformat_minor": 2
}
