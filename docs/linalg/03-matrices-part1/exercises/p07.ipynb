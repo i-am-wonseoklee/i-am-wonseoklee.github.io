{
 "cells": [
  {
   "cell_type": "code",
   "execution_count": 7,
   "metadata": {},
   "outputs": [],
   "source": [
    "import numpy as np\n",
    "\n",
    "def method1(L, I, V, E):\n",
    "    return (L@I@V@E).T\n",
    "\n",
    "def method2(L, I, V, E):\n",
    "    return L.T@I.T@V.T@E.T\n",
    "\n",
    "def method3(L, I, V, E):\n",
    "    return E.T@V.T@I.T@L.T"
   ]
  },
  {
   "cell_type": "code",
   "execution_count": 8,
   "metadata": {},
   "outputs": [
    {
     "name": "stdout",
     "output_type": "stream",
     "text": [
      "(2, 2)\n",
      "(2, 2)\n",
      "True\n"
     ]
    }
   ],
   "source": [
    "A = np.random.randn(2, 6)\n",
    "B = np.random.randn(6, 3)\n",
    "C = np.random.randn(3, 5)\n",
    "D = np.random.randn(5, 2)\n",
    "\n",
    "r0 = method1(A, B, C, D)\n",
    "# r1 = method2(A, B, C, D) error!\n",
    "r2 = method3(A, B, C, D)\n",
    "\n",
    "print(r0.shape)\n",
    "print(r2.shape)\n",
    "\n",
    "print(np.allclose(r0, r2))"
   ]
  },
  {
   "cell_type": "code",
   "execution_count": 9,
   "metadata": {},
   "outputs": [
    {
     "name": "stdout",
     "output_type": "stream",
     "text": [
      "(3, 3)\n",
      "(3, 3)\n",
      "(3, 3)\n",
      "False\n",
      "True\n"
     ]
    }
   ],
   "source": [
    "A = np.random.randn(3, 3)\n",
    "B = np.random.randn(3, 3)\n",
    "C = np.random.randn(3, 3)\n",
    "D = np.random.randn(3, 3)\n",
    "\n",
    "r0 = method1(A, B, C, D)\n",
    "r1 = method2(A, B, C, D)\n",
    "r2 = method3(A, B, C, D)\n",
    "\n",
    "print(r0.shape)\n",
    "print(r1.shape)\n",
    "print(r2.shape)\n",
    "\n",
    "print(np.allclose(r0, r1))\n",
    "print(np.allclose(r0, r2))"
   ]
  }
 ],
 "metadata": {
  "kernelspec": {
   "display_name": "Python 3",
   "language": "python",
   "name": "python3"
  },
  "language_info": {
   "codemirror_mode": {
    "name": "ipython",
    "version": 3
   },
   "file_extension": ".py",
   "mimetype": "text/x-python",
   "name": "python",
   "nbconvert_exporter": "python",
   "pygments_lexer": "ipython3",
   "version": "3.12.3"
  }
 },
 "nbformat": 4,
 "nbformat_minor": 2
}
