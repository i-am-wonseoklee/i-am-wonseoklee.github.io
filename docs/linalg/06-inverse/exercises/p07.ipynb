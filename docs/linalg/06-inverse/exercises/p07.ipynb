{
 "cells": [
  {
   "cell_type": "code",
   "execution_count": 1,
   "metadata": {},
   "outputs": [],
   "source": [
    "import numpy as np"
   ]
  },
  {
   "cell_type": "code",
   "execution_count": 2,
   "metadata": {},
   "outputs": [],
   "source": [
    "def get_distance(Ma, Mb):\n",
    "    return np.sqrt(np.sum(Ma - Mb) ** 2)"
   ]
  },
  {
   "cell_type": "code",
   "execution_count": 3,
   "metadata": {},
   "outputs": [],
   "source": [
    "A = np.random.randn(10, 10)\n",
    "ATA_inv = np.linalg.inv(A.T @ A)\n",
    "AT_inv = np.linalg.inv(A.T)\n",
    "A_inv = np.linalg.inv(A)\n",
    "AT_inv_A_inv = AT_inv @ A_inv\n",
    "A_inv_AT_inv = A_inv @ AT_inv"
   ]
  },
  {
   "cell_type": "code",
   "execution_count": 4,
   "metadata": {},
   "outputs": [
    {
     "name": "stdout",
     "output_type": "stream",
     "text": [
      "14.408994903660268\n",
      "7.533036694429285e-16\n"
     ]
    }
   ],
   "source": [
    "print(get_distance(ATA_inv, AT_inv_A_inv))\n",
    "print(get_distance(ATA_inv, A_inv_AT_inv))"
   ]
  }
 ],
 "metadata": {
  "kernelspec": {
   "display_name": "Python 3",
   "language": "python",
   "name": "python3"
  },
  "language_info": {
   "codemirror_mode": {
    "name": "ipython",
    "version": 3
   },
   "file_extension": ".py",
   "mimetype": "text/x-python",
   "name": "python",
   "nbconvert_exporter": "python",
   "pygments_lexer": "ipython3",
   "version": "3.12.3"
  }
 },
 "nbformat": 4,
 "nbformat_minor": 2
}
