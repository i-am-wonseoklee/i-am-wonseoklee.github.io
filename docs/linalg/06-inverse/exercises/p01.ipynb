{
 "cells": [
  {
   "cell_type": "code",
   "execution_count": 1,
   "metadata": {},
   "outputs": [],
   "source": [
    "import numpy as np"
   ]
  },
  {
   "cell_type": "code",
   "execution_count": 2,
   "metadata": {},
   "outputs": [
    {
     "name": "stdout",
     "output_type": "stream",
     "text": [
      "[[-0.61910794 -1.74397277 -1.11446029]\n",
      " [-0.08955587 -0.70645879  2.15175747]\n",
      " [ 1.34963844 -1.68072912 -0.6154958 ]]\n",
      "[[-0.46529218 -0.09184439  0.52140536]\n",
      " [-0.32720131 -0.21651038 -0.16446086]\n",
      " [-0.12679119  0.38982978 -0.03229449]]\n",
      "[[-0.61910794 -1.74397277 -1.11446029]\n",
      " [-0.08955587 -0.70645879  2.15175747]\n",
      " [ 1.34963844 -1.68072912 -0.6154958 ]]\n"
     ]
    }
   ],
   "source": [
    "A = np.random.randn(3, 3)\n",
    "A_inv = np.linalg.inv(A)\n",
    "A_inv_inv = np.linalg.inv(A_inv)\n",
    "\n",
    "print(A)\n",
    "print(A_inv)\n",
    "print(A_inv_inv)"
   ]
  }
 ],
 "metadata": {
  "kernelspec": {
   "display_name": "Python 3",
   "language": "python",
   "name": "python3"
  },
  "language_info": {
   "codemirror_mode": {
    "name": "ipython",
    "version": 3
   },
   "file_extension": ".py",
   "mimetype": "text/x-python",
   "name": "python",
   "nbconvert_exporter": "python",
   "pygments_lexer": "ipython3",
   "version": "3.12.3"
  }
 },
 "nbformat": 4,
 "nbformat_minor": 2
}
