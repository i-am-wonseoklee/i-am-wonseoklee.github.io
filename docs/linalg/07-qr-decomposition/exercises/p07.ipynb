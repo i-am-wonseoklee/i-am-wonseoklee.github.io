{
 "cells": [
  {
   "cell_type": "code",
   "execution_count": 1,
   "metadata": {},
   "outputs": [],
   "source": [
    "import numpy as np"
   ]
  },
  {
   "cell_type": "code",
   "execution_count": 2,
   "metadata": {},
   "outputs": [],
   "source": [
    "A = np.random.randn(10, 4)\n",
    "Q, R = np.linalg.qr(A, \"complete\")"
   ]
  },
  {
   "cell_type": "code",
   "execution_count": 3,
   "metadata": {},
   "outputs": [
    {
     "name": "stdout",
     "output_type": "stream",
     "text": [
      "[[-3.595736  1.047776 -1.049375  1.952442]\n",
      " [ 0.       -2.372745 -1.027598  0.195622]\n",
      " [ 0.        0.       -3.24217  -0.21761 ]\n",
      " [ 0.        0.        0.        2.405087]\n",
      " [ 0.        0.        0.        0.      ]\n",
      " [ 0.        0.        0.        0.      ]\n",
      " [ 0.        0.        0.        0.      ]\n",
      " [ 0.        0.        0.        0.      ]\n",
      " [ 0.        0.        0.        0.      ]\n",
      " [ 0.        0.        0.        0.      ]]\n"
     ]
    }
   ],
   "source": [
    "print(np.round(R, 6))"
   ]
  },
  {
   "cell_type": "code",
   "execution_count": 4,
   "metadata": {},
   "outputs": [
    {
     "name": "stdout",
     "output_type": "stream",
     "text": [
      "[[-0.278107 -0.122809  0.128937  0.247421]\n",
      " [ 0.       -0.421453  0.133578  0.046366]\n",
      " [ 0.        0.       -0.308435 -0.027907]\n",
      " [ 0.        0.        0.        0.415785]]\n",
      "[[-0.278107 -0.122809  0.128937  0.247421  0.        0.        0.\n",
      "   0.        0.        0.      ]\n",
      " [-0.       -0.421453  0.133578  0.046366  0.        0.        0.\n",
      "   0.        0.        0.      ]\n",
      " [-0.        0.       -0.308435 -0.027907  0.        0.        0.\n",
      "   0.        0.        0.      ]\n",
      " [ 0.       -0.       -0.        0.415785  0.        0.        0.\n",
      "   0.        0.        0.      ]]\n"
     ]
    }
   ],
   "source": [
    "SQ = R[:4, :]\n",
    "SQ_inv = np.linalg.inv(SQ)\n",
    "HI = R\n",
    "HI_inv = np.linalg.pinv(HI)\n",
    "\n",
    "print(np.round(SQ_inv, 6))\n",
    "print(np.round(HI_inv, 6))"
   ]
  }
 ],
 "metadata": {
  "kernelspec": {
   "display_name": "Python 3",
   "language": "python",
   "name": "python3"
  },
  "language_info": {
   "codemirror_mode": {
    "name": "ipython",
    "version": 3
   },
   "file_extension": ".py",
   "mimetype": "text/x-python",
   "name": "python",
   "nbconvert_exporter": "python",
   "pygments_lexer": "ipython3",
   "version": "3.12.3"
  }
 },
 "nbformat": 4,
 "nbformat_minor": 2
}
