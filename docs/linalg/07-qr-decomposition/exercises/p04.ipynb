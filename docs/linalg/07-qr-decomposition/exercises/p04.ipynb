{
 "cells": [
  {
   "cell_type": "code",
   "execution_count": 1,
   "metadata": {},
   "outputs": [],
   "source": [
    "import itertools\n",
    "import matplotlib.pyplot as plt\n",
    "import numpy as np"
   ]
  },
  {
   "cell_type": "code",
   "execution_count": 2,
   "metadata": {},
   "outputs": [],
   "source": [
    "def old_school_inv(m):\n",
    "    nrow, ncol = m.shape[0], m.shape[1]\n",
    "    # Get minor matrix.\n",
    "    minor = np.zeros_like(m)\n",
    "    for r, c in itertools.product(range(nrow), range(ncol)):\n",
    "        rmask = [True] * nrow\n",
    "        cmask = [True] * ncol\n",
    "        rmask[r] = False\n",
    "        cmask[c] = False\n",
    "        minor[r, c] = np.linalg.det(m[rmask, :][:, cmask])\n",
    "        \n",
    "    # Get cofactor matrix\n",
    "    cofactor = np.zeros_like(m)\n",
    "    for r, c in itertools.product(range(nrow), range(ncol)):\n",
    "        cofactor[r, c] = (-1)**(r + c) * minor[r, c]\n",
    "    \n",
    "    return cofactor.T / np.linalg.det(m)        "
   ]
  },
  {
   "cell_type": "code",
   "execution_count": 3,
   "metadata": {},
   "outputs": [],
   "source": [
    "def new_school_inv(m):\n",
    "    q, r = np.linalg.qr(m)\n",
    "    return np.linalg.inv(r) @ q.T"
   ]
  },
  {
   "cell_type": "code",
   "execution_count": 4,
   "metadata": {},
   "outputs": [],
   "source": [
    "M = np.random.randn(5, 5)\n",
    "old_inv = old_school_inv(M)\n",
    "new_inv = new_school_inv(M)\n",
    "old_err = np.sqrt(np.sum((np.eye(5, 5) - old_inv @ M)**2))\n",
    "new_err = np.sqrt(np.sum((np.eye(5, 5) - new_inv @ M)**2))"
   ]
  },
  {
   "cell_type": "code",
   "execution_count": 5,
   "metadata": {},
   "outputs": [
    {
     "data": {
      "image/png": "[encoded data removed]",
      "text/plain": [
       "<Figure size 640x480 with 1 Axes>"
      ]
     },
     "metadata": {},
     "output_type": "display_data"
    }
   ],
   "source": [
    "fig, ax = plt.subplots()\n",
    "ax.bar([0, 1], [old_err, new_err])\n",
    "ax.set_xticks([0, 1], labels=[\"old\", \"new\"])\n",
    "plt.show()"
   ]
  }
 ],
 "metadata": {
  "kernelspec": {
   "display_name": "Python 3",
   "language": "python",
   "name": "python3"
  },
  "language_info": {
   "codemirror_mode": {
    "name": "ipython",
    "version": 3
   },
   "file_extension": ".py",
   "mimetype": "text/x-python",
   "name": "python",
   "nbconvert_exporter": "python",
   "pygments_lexer": "ipython3",
   "version": "3.12.3"
  }
 },
 "nbformat": 4,
 "nbformat_minor": 2
}
