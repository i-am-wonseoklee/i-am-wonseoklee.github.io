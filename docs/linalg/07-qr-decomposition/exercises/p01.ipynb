{
 "cells": [
  {
   "cell_type": "code",
   "execution_count": 1,
   "metadata": {},
   "outputs": [],
   "source": [
    "# It seems that the exercise 1 has a typo...\n",
    "import numpy as np"
   ]
  },
  {
   "cell_type": "code",
   "execution_count": 2,
   "metadata": {},
   "outputs": [
    {
     "name": "stdout",
     "output_type": "stream",
     "text": [
      "[[ 1.  0. -0.  0.  0.]\n",
      " [ 0.  1.  0.  0. -0.]\n",
      " [-0.  0.  1. -0. -0.]\n",
      " [ 0.  0. -0.  1.  0.]\n",
      " [ 0. -0. -0.  0.  1.]]\n",
      "[[ 1.  0. -0.  0.  0.]\n",
      " [ 0.  1. -0. -0. -0.]\n",
      " [-0. -0.  1.  0. -0.]\n",
      " [ 0. -0.  0.  1. -0.]\n",
      " [ 0. -0. -0. -0.  1.]]\n",
      "[[ 1. -0.  0.  0. -0.]\n",
      " [ 0.  1. -0.  0.  0.]\n",
      " [ 0. -0.  1.  0.  0.]\n",
      " [ 0.  0. -0.  1.  0.]\n",
      " [ 0. -0. -0.  0.  1.]]\n",
      "[[ 1. -0. -0. -0.  0.]\n",
      " [ 0.  1. -0. -0.  0.]\n",
      " [-0.  0.  1.  0. -0.]\n",
      " [-0. -0.  0.  1.  0.]\n",
      " [-0.  0.  0.  0.  1.]]\n"
     ]
    }
   ],
   "source": [
    "M = np.random.randn(5, 5)\n",
    "Q = np.linalg.qr(M)[0]\n",
    "\n",
    "print(np.round(Q.T @ Q, 6))\n",
    "print(np.round(Q @ Q.T, 6))\n",
    "print(np.round(np.linalg.inv(Q) @ Q, 6))\n",
    "print(np.round(Q @ np.linalg.inv(Q), 6))"
   ]
  }
 ],
 "metadata": {
  "kernelspec": {
   "display_name": "Python 3",
   "language": "python",
   "name": "python3"
  },
  "language_info": {
   "codemirror_mode": {
    "name": "ipython",
    "version": 3
   },
   "file_extension": ".py",
   "mimetype": "text/x-python",
   "name": "python",
   "nbconvert_exporter": "python",
   "pygments_lexer": "ipython3",
   "version": "3.12.3"
  }
 },
 "nbformat": 4,
 "nbformat_minor": 2
}
