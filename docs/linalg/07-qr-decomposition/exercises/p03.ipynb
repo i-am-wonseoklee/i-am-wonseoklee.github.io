{
 "cells": [
  {
   "cell_type": "code",
   "execution_count": 1,
   "metadata": {},
   "outputs": [],
   "source": [
    "import numpy as np"
   ]
  },
  {
   "cell_type": "code",
   "execution_count": 2,
   "metadata": {},
   "outputs": [
    {
     "name": "stdout",
     "output_type": "stream",
     "text": [
      "True\n"
     ]
    }
   ],
   "source": [
    "M = np.random.randn(6, 6)\n",
    "U = np.linalg.qr(M)[0]\n",
    "U_Q, U_R = np.linalg.qr(U)\n",
    "print(np.allclose(U_R, np.eye(6, 6)))"
   ]
  },
  {
   "cell_type": "code",
   "execution_count": 3,
   "metadata": {},
   "outputs": [
    {
     "name": "stdout",
     "output_type": "stream",
     "text": [
      "[[10. -0.  0. -0.  0. -0.]\n",
      " [ 0. 11. -0.  0.  0.  0.]\n",
      " [ 0.  0. 12. -0.  0. -0.]\n",
      " [ 0.  0.  0. 13. -0.  0.]\n",
      " [ 0.  0.  0.  0. 14. -0.]\n",
      " [ 0.  0.  0.  0.  0. 15.]]\n",
      "[[ 1. -0.  0. -0.  0. -0.]\n",
      " [-0.  1. -0.  0.  0.  0.]\n",
      " [ 0. -0.  1. -0.  0. -0.]\n",
      " [-0.  0. -0.  1. -0.  0.]\n",
      " [ 0.  0.  0. -0.  1. -0.]\n",
      " [-0.  0. -0.  0. -0.  1.]]\n"
     ]
    }
   ],
   "source": [
    "S = np.diag(np.arange(10, 16, 1)/ np.linalg.norm(U, axis=0))\n",
    "V = U @ S\n",
    "V_Q, V_R = np.linalg.qr(V)\n",
    "print(np.round(V_R, 6))\n",
    "print(np.round(V_Q.T @ V_Q, 6))"
   ]
  },
  {
   "cell_type": "code",
   "execution_count": 4,
   "metadata": {},
   "outputs": [
    {
     "name": "stdout",
     "output_type": "stream",
     "text": [
      "[[ 1.       -0.        0.       -0.       -0.025089 -0.      ]\n",
      " [ 0.        1.       -0.        0.        0.30729   0.      ]\n",
      " [ 0.        0.        1.        0.        0.090679 -0.      ]\n",
      " [ 0.        0.        0.        1.        0.107676 -0.      ]\n",
      " [ 0.        0.        0.        0.        0.665726 -0.545241]\n",
      " [ 0.        0.        0.        0.        0.        0.83828 ]]\n"
     ]
    }
   ],
   "source": [
    "W = U.copy()\n",
    "W[1, 4] = 0\n",
    "W_Q, W_R = np.linalg.qr(W)\n",
    "print(np.round(W_R, 6))"
   ]
  }
 ],
 "metadata": {
  "kernelspec": {
   "display_name": "Python 3",
   "language": "python",
   "name": "python3"
  },
  "language_info": {
   "codemirror_mode": {
    "name": "ipython",
    "version": 3
   },
   "file_extension": ".py",
   "mimetype": "text/x-python",
   "name": "python",
   "nbconvert_exporter": "python",
   "pygments_lexer": "ipython3",
   "version": "3.12.3"
  }
 },
 "nbformat": 4,
 "nbformat_minor": 2
}
