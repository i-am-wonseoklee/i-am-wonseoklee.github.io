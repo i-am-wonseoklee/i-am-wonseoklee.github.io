{
 "cells": [
  {
   "cell_type": "code",
   "execution_count": 1,
   "metadata": {},
   "outputs": [],
   "source": [
    "import numpy as np"
   ]
  },
  {
   "cell_type": "code",
   "execution_count": 2,
   "metadata": {},
   "outputs": [],
   "source": [
    "M = np.random.randn(4, 4)"
   ]
  },
  {
   "cell_type": "code",
   "execution_count": 3,
   "metadata": {},
   "outputs": [],
   "source": [
    "# Answer.\n",
    "answer = np.linalg.qr(M)[0]"
   ]
  },
  {
   "cell_type": "code",
   "execution_count": 4,
   "metadata": {},
   "outputs": [],
   "source": [
    "def qr(m):\n",
    "    q = m.copy()\n",
    "    q[:, 0] /= np.linalg.norm(q[:, 0])\n",
    "    for i in range(1, m.shape[1]):\n",
    "        q[:, i] = m[:, i]\n",
    "        for j in range(i):\n",
    "            q[:, i] -= np.dot(m[:, i].T, q[:, j]) * q[:, j]\n",
    "        q[:, i] /= np.linalg.norm(q[:, i])\n",
    "    return q"
   ]
  },
  {
   "cell_type": "code",
   "execution_count": 5,
   "metadata": {},
   "outputs": [],
   "source": [
    "# My answer\n",
    "my_answer = qr(M)"
   ]
  },
  {
   "cell_type": "code",
   "execution_count": 6,
   "metadata": {},
   "outputs": [
    {
     "name": "stdout",
     "output_type": "stream",
     "text": [
      "[[-0.27194507  0.71071948 -0.07373322 -0.6445829 ]\n",
      " [-0.19004745 -0.26424128 -0.93984678 -0.10366553]\n",
      " [-0.53868677  0.43393941 -0.09207945  0.71626429]\n",
      " [-0.77443167 -0.48657061  0.32058199 -0.24643824]]\n",
      "[[ 0.27194507 -0.71071948 -0.07373322  0.6445829 ]\n",
      " [ 0.19004745  0.26424128 -0.93984678  0.10366553]\n",
      " [ 0.53868677 -0.43393941 -0.09207945 -0.71626429]\n",
      " [ 0.77443167  0.48657061  0.32058199  0.24643824]]\n",
      "[[-0.54389   1.421439  0.       -1.289166]\n",
      " [-0.380095 -0.528483 -0.       -0.207331]\n",
      " [-1.077374  0.867879  0.        1.432529]\n",
      " [-1.548863 -0.973141  0.       -0.492876]]\n",
      "[[ 0.        0.       -0.147466  0.      ]\n",
      " [ 0.       -0.       -1.879694  0.      ]\n",
      " [ 0.        0.       -0.184159  0.      ]\n",
      " [ 0.       -0.        0.641164 -0.      ]]\n"
     ]
    }
   ],
   "source": [
    "print(answer)\n",
    "print(my_answer)\n",
    "print(np.round(answer - my_answer, 6))\n",
    "print(np.round(answer + my_answer, 6))"
   ]
  }
 ],
 "metadata": {
  "kernelspec": {
   "display_name": "Python 3",
   "language": "python",
   "name": "python3"
  },
  "language_info": {
   "codemirror_mode": {
    "name": "ipython",
    "version": 3
   },
   "file_extension": ".py",
   "mimetype": "text/x-python",
   "name": "python",
   "nbconvert_exporter": "python",
   "pygments_lexer": "ipython3",
   "version": "3.12.3"
  }
 },
 "nbformat": 4,
 "nbformat_minor": 2
}
