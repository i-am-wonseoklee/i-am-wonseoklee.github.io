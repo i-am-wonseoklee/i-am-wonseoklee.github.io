{
 "cells": [
  {
   "cell_type": "code",
   "execution_count": 8,
   "metadata": {},
   "outputs": [],
   "source": [
    "import time\n",
    "import numpy as np\n",
    "from typing import Callable\n",
    "\n",
    "def measure_time(func: Callable):\n",
    "    def wrapper(*args, **kwargs):\n",
    "        start = time.time()\n",
    "        result = func(*args, **kwargs)\n",
    "        end = time.time()\n",
    "        print(f\"Execution time: {end - start:.3f} sec\")\n",
    "        return result\n",
    "    return wrapper\n",
    "\n",
    "def get_pearson_correlation(x: np.ndarray, y: np.ndarray) -> float:\n",
    "    x_bar = x - np.mean(x)\n",
    "    y_bar = y - np.mean(y)\n",
    "    return np.dot(x_bar, y_bar) / (np.linalg.norm(x_bar) * np.linalg.norm(y_bar))\n",
    "\n",
    "def generate_random_vectors(dim: int, n: int) -> np.ndarray:\n",
    "    return np.random.randn(dim, n)\n",
    "\n",
    "@measure_time\n",
    "def do_simulation1(data: np.ndarray) -> np.ndarray:\n",
    "    result = np.zeros(data.shape[1] // 2)\n",
    "    for i in range(0, data.shape[1], 2):\n",
    "        v1 = data[:, i].ravel()\n",
    "        v2 = data[:, i + 1].ravel()\n",
    "        result[i // 2] = get_pearson_correlation(v1, v2)\n",
    "    return result\n",
    "\n",
    "@measure_time\n",
    "def do_simulation2(data: np.ndarray) -> np.ndarray:\n",
    "    result = np.zeros(data.shape[1] // 2)\n",
    "    for i in range(0, data.shape[1], 2):\n",
    "        v1 = data[:, i].ravel()\n",
    "        v2 = data[:, i + 1].ravel()\n",
    "        result[i // 2] = np.corrcoef(v1, v2)[0, 1]\n",
    "    return result\n",
    "\n",
    "def check_correctness(v1: np.ndarray, v2: np.ndarray) -> bool:\n",
    "    return np.allclose(v1, v2, atol=1e-3)"
   ]
  },
  {
   "cell_type": "code",
   "execution_count": 9,
   "metadata": {},
   "outputs": [
    {
     "name": "stdout",
     "output_type": "stream",
     "text": [
      "Execution time: 0.061 sec\n",
      "Execution time: 0.140 sec\n"
     ]
    }
   ],
   "source": [
    "data = generate_random_vectors(500, 2000)\n",
    "result1 = do_simulation1(data)\n",
    "result2 = do_simulation2(data)\n",
    "assert check_correctness(result1, result2)"
   ]
  }
 ],
 "metadata": {
  "kernelspec": {
   "display_name": "Python 3",
   "language": "python",
   "name": "python3"
  },
  "language_info": {
   "codemirror_mode": {
    "name": "ipython",
    "version": 3
   },
   "file_extension": ".py",
   "mimetype": "text/x-python",
   "name": "python",
   "nbconvert_exporter": "python",
   "pygments_lexer": "ipython3",
   "version": "3.10.12"
  }
 },
 "nbformat": 4,
 "nbformat_minor": 2
}
