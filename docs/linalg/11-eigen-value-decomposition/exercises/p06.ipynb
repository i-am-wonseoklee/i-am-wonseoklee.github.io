{
 "cells": [
  {
   "cell_type": "code",
   "execution_count": 1,
   "metadata": {},
   "outputs": [],
   "source": [
    "import numpy as np"
   ]
  },
  {
   "cell_type": "code",
   "execution_count": 2,
   "metadata": {},
   "outputs": [],
   "source": [
    "D = np.diag(np.random.randn(4)**2)\n",
    "R = np.random.randn(4, 4)\n",
    "q, r = np.linalg.qr(R)\n",
    "M = q @ D @ q.T"
   ]
  },
  {
   "cell_type": "code",
   "execution_count": 3,
   "metadata": {},
   "outputs": [
    {
     "name": "stdout",
     "output_type": "stream",
     "text": [
      "[[ 1.16301404 -0.20273673 -0.12771334 -0.60537625]\n",
      " [-0.20273673  0.4718073   1.10031464  0.75926566]\n",
      " [-0.12771334  1.10031464  3.23273933  1.93045453]\n",
      " [-0.60537625  0.75926566  1.93045453  1.53026397]]\n"
     ]
    }
   ],
   "source": [
    "print(M)"
   ]
  },
  {
   "cell_type": "code",
   "execution_count": 4,
   "metadata": {},
   "outputs": [
    {
     "name": "stdout",
     "output_type": "stream",
     "text": [
      "[[4.95611949 0.         0.         0.        ]\n",
      " [0.         1.29161549 0.         0.        ]\n",
      " [0.         0.         0.06259361 0.        ]\n",
      " [0.         0.         0.         0.08749605]]\n",
      "[4.95611949 1.29161549 0.08749605 0.06259361]\n"
     ]
    }
   ],
   "source": [
    "evals, evecs = np.linalg.eig(M)\n",
    "print(D)\n",
    "print(evals)"
   ]
  }
 ],
 "metadata": {
  "kernelspec": {
   "display_name": "Python 3",
   "language": "python",
   "name": "python3"
  },
  "language_info": {
   "codemirror_mode": {
    "name": "ipython",
    "version": 3
   },
   "file_extension": ".py",
   "mimetype": "text/x-python",
   "name": "python",
   "nbconvert_exporter": "python",
   "pygments_lexer": "ipython3",
   "version": "3.11.1"
  }
 },
 "nbformat": 4,
 "nbformat_minor": 2
}
