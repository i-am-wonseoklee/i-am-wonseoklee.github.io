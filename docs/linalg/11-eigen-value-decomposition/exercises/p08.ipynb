{
 "cells": [
  {
   "cell_type": "code",
   "execution_count": 5,
   "metadata": {},
   "outputs": [],
   "source": [
    "import numpy as np"
   ]
  },
  {
   "cell_type": "code",
   "execution_count": 6,
   "metadata": {},
   "outputs": [
    {
     "name": "stdout",
     "output_type": "stream",
     "text": [
      "[[ 0.        0.004516 -0.000299]\n",
      " [ 0.004516  0.        0.012605]\n",
      " [-0.000299  0.012605  0.      ]]\n"
     ]
    }
   ],
   "source": [
    "R = np.array([1.0, 0.2, 0.9, 0.2, 1.0, 0.3, 0.9, 0.3, 1.0]).reshape(3, 3)\n",
    "evals, evecs = np.linalg.eig(R)\n",
    "X = np.random.randn(3, 10000)\n",
    "Y = evecs @ np.diag(evals)**0.5 @ X\n",
    "Rr = np.corrcoef(Y)\n",
    "print(np.round(R - Rr, 6))"
   ]
  }
 ],
 "metadata": {
  "kernelspec": {
   "display_name": "Python 3",
   "language": "python",
   "name": "python3"
  },
  "language_info": {
   "codemirror_mode": {
    "name": "ipython",
    "version": 3
   },
   "file_extension": ".py",
   "mimetype": "text/x-python",
   "name": "python",
   "nbconvert_exporter": "python",
   "pygments_lexer": "ipython3",
   "version": "3.11.1"
  }
 },
 "nbformat": 4,
 "nbformat_minor": 2
}
