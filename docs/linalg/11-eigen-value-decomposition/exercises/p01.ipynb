{
 "cells": [
  {
   "cell_type": "code",
   "execution_count": 15,
   "metadata": {},
   "outputs": [],
   "source": [
    "import numpy as np"
   ]
  },
  {
   "cell_type": "code",
   "execution_count": 16,
   "metadata": {},
   "outputs": [],
   "source": [
    "R = np.random.randn(5, 5)\n",
    "A = R.T @ R # Eigen value of sym-matrix is guaranteed to be real numbers. \n",
    "Ai = np.linalg.inv(A)"
   ]
  },
  {
   "cell_type": "code",
   "execution_count": 17,
   "metadata": {},
   "outputs": [],
   "source": [
    "evals, evecs = np.linalg.eig(A)\n",
    "evalsi, evecsi = np.linalg.eig(Ai)"
   ]
  },
  {
   "cell_type": "code",
   "execution_count": 18,
   "metadata": {},
   "outputs": [
    {
     "name": "stdout",
     "output_type": "stream",
     "text": [
      "True\n"
     ]
    }
   ],
   "source": [
    "# Prove that the eigen vectors are the same.\n",
    "evecs /= np.linalg.norm(evecs, axis=0)\n",
    "evecsi /= np.linalg.norm(evecsi, axis=0)\n",
    "\n",
    "# Sort the eigen vectors according to the abs of the first eigen vector element.\n",
    "evecs = evecs[:, np.argsort(np.abs(evecs[0, :]))]\n",
    "evecsi = evecsi[:, np.argsort(np.abs(evecsi[0, :]))]\n",
    "\n",
    "# The sign of each element may be reversed.\n",
    "print(np.allclose(np.abs(evecs), np.abs(evecsi)))"
   ]
  },
  {
   "cell_type": "code",
   "execution_count": 19,
   "metadata": {},
   "outputs": [
    {
     "name": "stdout",
     "output_type": "stream",
     "text": [
      "True\n"
     ]
    }
   ],
   "source": [
    "# Prove the reciprocal relation between eigen values.\n",
    "evals = np.sort(evals)\n",
    "evalsi = np.flip(np.sort(evalsi))\n",
    "print(np.allclose(evals * evalsi, np.ones_like(evals)))"
   ]
  }
 ],
 "metadata": {
  "kernelspec": {
   "display_name": "Python 3",
   "language": "python",
   "name": "python3"
  },
  "language_info": {
   "codemirror_mode": {
    "name": "ipython",
    "version": 3
   },
   "file_extension": ".py",
   "mimetype": "text/x-python",
   "name": "python",
   "nbconvert_exporter": "python",
   "pygments_lexer": "ipython3",
   "version": "3.11.1"
  }
 },
 "nbformat": 4,
 "nbformat_minor": 2
}
