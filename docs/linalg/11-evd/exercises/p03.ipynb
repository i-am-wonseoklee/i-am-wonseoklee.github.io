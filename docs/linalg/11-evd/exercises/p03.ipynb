{
 "cells": [
  {
   "cell_type": "code",
   "execution_count": 57,
   "metadata": {},
   "outputs": [],
   "source": [
    "import matplotlib.pyplot as plt\n",
    "import numpy as np"
   ]
  },
  {
   "cell_type": "code",
   "execution_count": 58,
   "metadata": {},
   "outputs": [],
   "source": [
    "R = np.random.randn(5, 5)\n",
    "A = R.T + R"
   ]
  },
  {
   "cell_type": "code",
   "execution_count": 59,
   "metadata": {},
   "outputs": [],
   "source": [
    "evals, evecs = np.linalg.eig(A)"
   ]
  },
  {
   "cell_type": "code",
   "execution_count": 60,
   "metadata": {},
   "outputs": [
    {
     "name": "stdout",
     "output_type": "stream",
     "text": [
      "True\n",
      "6.3630640794832335e-15\n"
     ]
    }
   ],
   "source": [
    "diag = np.diag(evals)\n",
    "Ar = evecs @ diag @ np.linalg.inv(evecs)\n",
    "print(np.allclose(A, Ar))\n",
    "dist0 = np.sqrt(np.sum((A-Ar)**2))\n",
    "print(dist0)"
   ]
  },
  {
   "cell_type": "code",
   "execution_count": 61,
   "metadata": {},
   "outputs": [
    {
     "name": "stdout",
     "output_type": "stream",
     "text": [
      "False\n",
      "12.438672514880173\n"
     ]
    }
   ],
   "source": [
    "evals_copy = evals.copy()\n",
    "np.random.shuffle(evals_copy)\n",
    "diag_bar = np.diag(evals_copy)\n",
    "Ar_bar = evecs @ diag_bar @ np.linalg.inv(evecs)\n",
    "print(np.allclose(A, Ar_bar))\n",
    "dist1 = np.sqrt(np.sum((A-Ar_bar)**2))\n",
    "print(dist1)"
   ]
  },
  {
   "cell_type": "code",
   "execution_count": 62,
   "metadata": {},
   "outputs": [
    {
     "name": "stdout",
     "output_type": "stream",
     "text": [
      "9.6683228680263\n"
     ]
    }
   ],
   "source": [
    "evals_copy = evals.copy()\n",
    "evals_inc = np.argsort(evals)\n",
    "evals_copy[evals_inc[0]], evals_copy[evals_inc[1]] = evals_copy[evals_inc[1]], evals_copy[evals_inc[0]]\n",
    "diag_bar = np.diag(evals_copy)\n",
    "Ar_bar = evecs @ diag_bar @ np.linalg.inv(evecs)\n",
    "dist2 = np.sum((A - Ar_bar)**2)\n",
    "print(dist2)"
   ]
  },
  {
   "cell_type": "code",
   "execution_count": 63,
   "metadata": {},
   "outputs": [
    {
     "name": "stdout",
     "output_type": "stream",
     "text": [
      "0.5813543140802999\n"
     ]
    }
   ],
   "source": [
    "evals_copy = evals.copy()\n",
    "evals_dec = np.flip(np.argsort(evals))\n",
    "evals_copy[evals_dec[0]], evals_copy[evals_dec[1]] = evals_copy[evals_dec[1]], evals_copy[evals_dec[0]]\n",
    "diag_bar = np.diag(evals_copy)\n",
    "Ar_bar = evecs @ diag_bar @ np.linalg.inv(evecs)\n",
    "dist3 = np.sqrt(np.sum((A - Ar_bar)**2))\n",
    "print(dist3)"
   ]
  },
  {
   "cell_type": "code",
   "execution_count": 64,
   "metadata": {},
   "outputs": [
    {
     "data": {
      "image/png": "[encoded data removed]",
      "text/plain": [
       "<Figure size 640x480 with 1 Axes>"
      ]
     },
     "metadata": {},
     "output_type": "display_data"
    }
   ],
   "source": [
    "fig, ax = plt.subplots()\n",
    "x = np.arange(4)\n",
    "y = [dist0, dist1, dist2, dist3]\n",
    "ax.bar(x, y)\n",
    "ax.set_ylabel(\"Frobenius norm\")\n",
    "plt.xticks(x, [\"no-shuffle\", \"whole-shuffle\", \"max-2-shuffle\", \"min-2-shuffle\"])\n",
    "plt.show()"
   ]
  }
 ],
 "metadata": {
  "kernelspec": {
   "display_name": "Python 3",
   "language": "python",
   "name": "python3"
  },
  "language_info": {
   "codemirror_mode": {
    "name": "ipython",
    "version": 3
   },
   "file_extension": ".py",
   "mimetype": "text/x-python",
   "name": "python",
   "nbconvert_exporter": "python",
   "pygments_lexer": "ipython3",
   "version": "3.11.1"
  }
 },
 "nbformat": 4,
 "nbformat_minor": 2
}
