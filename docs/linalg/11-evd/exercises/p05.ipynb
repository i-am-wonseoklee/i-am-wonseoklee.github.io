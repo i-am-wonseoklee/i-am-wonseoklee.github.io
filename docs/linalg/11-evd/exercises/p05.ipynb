{
 "cells": [
  {
   "cell_type": "code",
   "execution_count": 54,
   "metadata": {},
   "outputs": [],
   "source": [
    "import numpy as np\n",
    "import scipy"
   ]
  },
  {
   "cell_type": "code",
   "execution_count": 55,
   "metadata": {},
   "outputs": [],
   "source": [
    "A = np.random.randn(3, 3)\n",
    "A = A.T @ A\n",
    "evals, evecs = np.linalg.eig(A)\n",
    "evecs /= np.linalg.norm(evecs, axis=0)"
   ]
  },
  {
   "cell_type": "code",
   "execution_count": 56,
   "metadata": {},
   "outputs": [],
   "source": [
    "bases = np.zeros((3, 3))\n",
    "for idx, eval in enumerate(evals):\n",
    "    bases[idx] = scipy.linalg.null_space(A - eval * np.eye(3)).reshape(-1, 3)\n",
    "bases /= np.linalg.norm(bases, axis=0)"
   ]
  },
  {
   "cell_type": "code",
   "execution_count": 57,
   "metadata": {},
   "outputs": [
    {
     "name": "stdout",
     "output_type": "stream",
     "text": [
      "[[ 0.94711986 -0.32053169 -0.01494689]\n",
      " [ 0.31171216  0.9301161  -0.19421526]\n",
      " [-0.07615449 -0.179286   -0.98084506]]\n",
      "[[ 0.94711986 -0.31171216  0.07615449]\n",
      " [-0.32053169 -0.9301161   0.179286  ]\n",
      " [-0.01494689  0.19421526  0.98084506]]\n"
     ]
    }
   ],
   "source": [
    "print(bases)\n",
    "print(evecs)"
   ]
  }
 ],
 "metadata": {
  "kernelspec": {
   "display_name": "Python 3",
   "language": "python",
   "name": "python3"
  },
  "language_info": {
   "codemirror_mode": {
    "name": "ipython",
    "version": 3
   },
   "file_extension": ".py",
   "mimetype": "text/x-python",
   "name": "python",
   "nbconvert_exporter": "python",
   "pygments_lexer": "ipython3",
   "version": "3.11.1"
  }
 },
 "nbformat": 4,
 "nbformat_minor": 2
}
