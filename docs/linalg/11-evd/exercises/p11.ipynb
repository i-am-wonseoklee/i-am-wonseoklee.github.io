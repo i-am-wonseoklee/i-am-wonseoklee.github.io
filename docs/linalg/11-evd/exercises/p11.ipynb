{
 "cells": [
  {
   "cell_type": "code",
   "execution_count": 76,
   "metadata": {},
   "outputs": [],
   "source": [
    "import numpy as np"
   ]
  },
  {
   "cell_type": "code",
   "execution_count": 77,
   "metadata": {},
   "outputs": [],
   "source": [
    "A = np.random.randint(-14, 15, 16).reshape(4, 4)\n",
    "evals, evecs = np.linalg.eig(A)"
   ]
  },
  {
   "cell_type": "code",
   "execution_count": 78,
   "metadata": {},
   "outputs": [
    {
     "name": "stdout",
     "output_type": "stream",
     "text": [
      "[[ -6  -1   7   3]\n",
      " [ -5 -12  -5  12]\n",
      " [ 14 -10   6   2]\n",
      " [  9  -7  -3  -5]]\n",
      "[[ -6.+0.j  -1.-0.j   7.-0.j   3.+0.j]\n",
      " [ -5.+0.j -12.-0.j  -5.-0.j  12.-0.j]\n",
      " [ 14.+0.j -10.+0.j   6.-0.j   2.-0.j]\n",
      " [  9.+0.j  -7.+0.j  -3.-0.j  -5.-0.j]]\n"
     ]
    }
   ],
   "source": [
    "print(A)\n",
    "print(np.round(evecs @ np.diag(evals) @ np.linalg.inv(evecs), 6))"
   ]
  },
  {
   "cell_type": "code",
   "execution_count": 79,
   "metadata": {},
   "outputs": [
    {
     "name": "stdout",
     "output_type": "stream",
     "text": [
      "[1.+0.j 1.+0.j 1.+0.j 1.+0.j]\n"
     ]
    }
   ],
   "source": [
    "evecs2 = evecs * np.conj(evecs)\n",
    "print(np.sqrt(np.sum(evecs2, axis=0)))"
   ]
  },
  {
   "cell_type": "code",
   "execution_count": 80,
   "metadata": {},
   "outputs": [
    {
     "name": "stdout",
     "output_type": "stream",
     "text": [
      "[[ -6  -1   7   3]\n",
      " [ -5 -12  -5  12]\n",
      " [ 14 -10   6   2]\n",
      " [  9  -7  -3  -5]]\n",
      "[[ -6.-0.j  -1.+0.j   7.+0.j   3.-0.j]\n",
      " [ -5.-0.j -12.-0.j  -5.+0.j  12.-0.j]\n",
      " [ 14.+0.j -10.-0.j   6.-0.j   2.+0.j]\n",
      " [  9.+0.j  -7.+0.j  -3.+0.j  -5.+0.j]]\n"
     ]
    }
   ],
   "source": [
    "evecspi = np.pi * evecs\n",
    "print(A)\n",
    "print(np.round(evecspi @ np.diag(evals) @ np.linalg.inv(evecspi), 6))"
   ]
  },
  {
   "cell_type": "code",
   "execution_count": 81,
   "metadata": {},
   "outputs": [
    {
     "name": "stdout",
     "output_type": "stream",
     "text": [
      "[[ 95  43 -26 -83]\n",
      " [ 43 338  44  -6]\n",
      " [-26  44 336 168]\n",
      " [-83  -6 168 164]]\n",
      "[[ 95.  43. -26. -83.]\n",
      " [ 43. 338.  44.  -6.]\n",
      " [-26.  44. 336. 168.]\n",
      " [-83.  -6. 168. 164.]]\n"
     ]
    }
   ],
   "source": [
    "A = A @ A.T\n",
    "evalssym, evecssym = np.linalg.eig(A)\n",
    "print(A)\n",
    "print(np.round(evecssym @ np.diag(evalssym) @ evecssym.T, 6))"
   ]
  }
 ],
 "metadata": {
  "kernelspec": {
   "display_name": "Python 3",
   "language": "python",
   "name": "python3"
  },
  "language_info": {
   "codemirror_mode": {
    "name": "ipython",
    "version": 3
   },
   "file_extension": ".py",
   "mimetype": "text/x-python",
   "name": "python",
   "nbconvert_exporter": "python",
   "pygments_lexer": "ipython3",
   "version": "3.11.1"
  }
 },
 "nbformat": 4,
 "nbformat_minor": 2
}
