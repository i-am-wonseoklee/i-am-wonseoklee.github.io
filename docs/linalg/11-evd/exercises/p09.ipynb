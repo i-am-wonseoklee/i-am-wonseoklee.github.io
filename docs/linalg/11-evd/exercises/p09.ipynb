{
 "cells": [
  {
   "cell_type": "code",
   "execution_count": 3,
   "metadata": {},
   "outputs": [],
   "source": [
    "import numpy as np"
   ]
  },
  {
   "cell_type": "code",
   "execution_count": 4,
   "metadata": {},
   "outputs": [
    {
     "name": "stdout",
     "output_type": "stream",
     "text": [
      "[[-2.22044605e-16  1.46604346e-02 -8.00197592e-03]\n",
      " [ 1.46604346e-02  0.00000000e+00  8.18169554e-03]\n",
      " [-8.00197592e-03  8.18169554e-03 -2.22044605e-16]]\n"
     ]
    }
   ],
   "source": [
    "R = np.array([1.0, 0.2, 0.9, 0.2, 1.0, 0.3, 0.9, 0.3, 1.0]).reshape(3, 3)\n",
    "evals, evecs = np.linalg.eig(R)\n",
    "X = np.random.randn(3, 10000)\n",
    "Y = evecs @ np.diag(evals)**0.5 @ X\n",
    "Y_bar = Y.T @ evecs @ np.linalg.inv(np.diag(evals))**0.5\n",
    "R = np.corrcoef(Y_bar.T) # IDK why transpose.\n",
    "print(R - np.eye(3))"
   ]
  }
 ],
 "metadata": {
  "kernelspec": {
   "display_name": "Python 3",
   "language": "python",
   "name": "python3"
  },
  "language_info": {
   "codemirror_mode": {
    "name": "ipython",
    "version": 3
   },
   "file_extension": ".py",
   "mimetype": "text/x-python",
   "name": "python",
   "nbconvert_exporter": "python",
   "pygments_lexer": "ipython3",
   "version": "3.11.1"
  }
 },
 "nbformat": 4,
 "nbformat_minor": 2
}
