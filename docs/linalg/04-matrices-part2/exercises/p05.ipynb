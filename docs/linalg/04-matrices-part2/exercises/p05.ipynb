{
 "cells": [
  {
   "cell_type": "code",
   "execution_count": 2,
   "metadata": {},
   "outputs": [
    {
     "name": "stdout",
     "output_type": "stream",
     "text": [
      "2\n",
      "3\n"
     ]
    }
   ],
   "source": [
    "import numpy as np\n",
    "\n",
    "r = 2\n",
    "mat0 = np.random.randn(3, r)\n",
    "mat1 = np.random.randn(r, 3)\n",
    "mat = mat0 @ mat1\n",
    "print(np.linalg.matrix_rank(mat))\n",
    "\n",
    "r = 4\n",
    "mat0 = np.random.randn(3, r)\n",
    "mat1 = np.random.randn(r, 3)\n",
    "mat = mat0 @ mat1\n",
    "print(np.linalg.matrix_rank(mat))"
   ]
  }
 ],
 "metadata": {
  "kernelspec": {
   "display_name": "Python 3",
   "language": "python",
   "name": "python3"
  },
  "language_info": {
   "codemirror_mode": {
    "name": "ipython",
    "version": 3
   },
   "file_extension": ".py",
   "mimetype": "text/x-python",
   "name": "python",
   "nbconvert_exporter": "python",
   "pygments_lexer": "ipython3",
   "version": "3.12.3"
  }
 },
 "nbformat": 4,
 "nbformat_minor": 2
}
