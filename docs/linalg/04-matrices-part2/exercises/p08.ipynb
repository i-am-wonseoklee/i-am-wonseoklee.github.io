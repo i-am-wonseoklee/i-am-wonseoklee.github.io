{
 "cells": [
  {
   "cell_type": "code",
   "execution_count": 3,
   "metadata": {},
   "outputs": [
    {
     "name": "stdout",
     "output_type": "stream",
     "text": [
      "10 10 10 10\n",
      "2 2 2 2\n",
      "2 2 2 2\n"
     ]
    }
   ],
   "source": [
    "import numpy as np\n",
    "\n",
    "def check(mat):\n",
    "    ra = np.linalg.matrix_rank(mat)\n",
    "    rb = np.linalg.matrix_rank(mat.T)\n",
    "    rc = np.linalg.matrix_rank(mat.T @ mat)\n",
    "    rd = np.linalg.matrix_rank(mat @ mat.T)\n",
    "    print(f\"{ra} {rb} {rc} {rd}\")\n",
    "\n",
    "mat = np.random.randn(10, 10)\n",
    "check(mat)\n",
    "\n",
    "mat = np.random.randn(10, 2)\n",
    "check(mat)\n",
    "\n",
    "mat = np.random.randn(2, 10)\n",
    "check(mat)"
   ]
  }
 ],
 "metadata": {
  "kernelspec": {
   "display_name": "Python 3",
   "language": "python",
   "name": "python3"
  },
  "language_info": {
   "codemirror_mode": {
    "name": "ipython",
    "version": 3
   },
   "file_extension": ".py",
   "mimetype": "text/x-python",
   "name": "python",
   "nbconvert_exporter": "python",
   "pygments_lexer": "ipython3",
   "version": "3.12.3"
  }
 },
 "nbformat": 4,
 "nbformat_minor": 2
}
