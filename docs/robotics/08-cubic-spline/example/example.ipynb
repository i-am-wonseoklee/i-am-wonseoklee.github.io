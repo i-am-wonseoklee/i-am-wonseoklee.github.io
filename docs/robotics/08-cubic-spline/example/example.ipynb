{
 "cells": [
  {
   "cell_type": "code",
   "execution_count": 265,
   "metadata": {},
   "outputs": [],
   "source": [
    "import matplotlib.pyplot as plt\n",
    "import numpy as np"
   ]
  },
  {
   "cell_type": "code",
   "execution_count": 266,
   "metadata": {},
   "outputs": [],
   "source": [
    "pts = np.random.randn(2, 7)"
   ]
  },
  {
   "cell_type": "code",
   "execution_count": 267,
   "metadata": {},
   "outputs": [],
   "source": [
    "# Reparametrize the curve.\n",
    "x = pts[0, :]\n",
    "y = pts[1, :]\n",
    "accum_s = np.hstack((0, np.cumsum(np.hypot(np.diff(x), np.diff(y)))))"
   ]
  },
  {
   "cell_type": "code",
   "execution_count": 268,
   "metadata": {},
   "outputs": [],
   "source": [
    "def calc_coeffs(data):\n",
    "    n = data.shape[1]\n",
    "    mat = np.zeros((4 * (n - 1), 4 * (n-1)))\n",
    "    vec = np.zeros((4 * (n - 1), 1))\n",
    "\n",
    "    # 0th derivative continuity.\n",
    "    ofs = 0\n",
    "    for i in range(n - 1):\n",
    "        mat[ofs + 2 * i, 4 * i] = data[0, i] ** 3\n",
    "        mat[ofs + 2 * i, 4 * i + 1] = data[0, i] ** 2\n",
    "        mat[ofs + 2 * i, 4 * i + 2] = data[0, i]\n",
    "        mat[ofs + 2 * i, 4 * i + 3] = 1\n",
    "        mat[ofs + 2 * i + 1, 4 * i] = data[0, i + 1] ** 3\n",
    "        mat[ofs + 2 * i + 1, 4 * i + 1] = data[0, i + 1] ** 2\n",
    "        mat[ofs + 2 * i + 1, 4 * i + 2] = data[0, i + 1]\n",
    "        mat[ofs + 2 * i + 1, 4 * i + 3] = 1\n",
    "        vec[ofs + 2 * i, 0] = data[1, i]\n",
    "        vec[ofs + 2 * i + 1, 0] = data[1, i + 1]\n",
    "\n",
    "    # 1st derivative continuity.\n",
    "    ofs = 2 * (n - 1)\n",
    "    for i in range(n - 2):\n",
    "        mat[ofs + i, 4 * i] = 3 * data[0, i + 1] ** 2\n",
    "        mat[ofs + i, 4 * i + 1] = 2 * data[0, i + 1]\n",
    "        mat[ofs + i, 4 * i + 2] = 1\n",
    "        mat[ofs + i, 4 * i + 4] = -3 * data[0, i + 1] ** 2\n",
    "        mat[ofs + i, 4 * i + 5] = -2 * data[0, i + 1]\n",
    "        mat[ofs + i, 4 * i + 6] = -1\n",
    "        vec[ofs + i, 0] = 0\n",
    "\n",
    "    # 2nd derivative continuity.\n",
    "    ofs = 2 * (n - 1) + (n - 2)\n",
    "    for i in range(n - 2):\n",
    "        mat[ofs + i, 4 * i] = 6 * data[0, i + 1]\n",
    "        mat[ofs + i, 4 * i + 1] = 2\n",
    "        mat[ofs + i, 4 * i + 4] = -6 * data[0, i + 1]\n",
    "        mat[ofs + i, 4 * i + 5] = -2\n",
    "        vec[ofs + i, 0] = 0\n",
    "    \n",
    "    # Quadratic spline condition.\n",
    "    ofs = 2 * (n - 1) + (n - 2) + (n - 2)\n",
    "    mat[ofs, 0] = 1\n",
    "    mat[ofs + 1, 4 * (n - 2)] = 1\n",
    "    vec[ofs, 0] = 0\n",
    "    vec[ofs + 1, 0] = 0\n",
    "\n",
    "    return np.linalg.solve(mat, vec).reshape(-1)"
   ]
  },
  {
   "cell_type": "code",
   "execution_count": 269,
   "metadata": {},
   "outputs": [],
   "source": [
    "def eval_spline(accum_s, s, coeffs):\n",
    "    i = np.searchsorted(accum_s, s, side='right') - 1\n",
    "    if i == len(accum_s) - 1:\n",
    "        i -= 1\n",
    "    a, b, c, d = coeffs[4 * i:4 * i + 4]\n",
    "    return a * (s ** 3) + b * (s ** 2) + c * s + d"
   ]
  },
  {
   "cell_type": "code",
   "execution_count": 270,
   "metadata": {},
   "outputs": [],
   "source": [
    "x_coeffs = calc_coeffs(np.vstack((accum_s, x)))\n",
    "y_coeffs = calc_coeffs(np.vstack((accum_s, y)))"
   ]
  },
  {
   "cell_type": "code",
   "execution_count": 271,
   "metadata": {},
   "outputs": [],
   "source": [
    "spline_x = [eval_spline(accum_s, s, x_coeffs) for s in np.linspace(accum_s[0], accum_s[-1], 300)]\n",
    "spline_y = [eval_spline(accum_s, s, y_coeffs) for s in np.linspace(accum_s[0], accum_s[-1], 300)]"
   ]
  },
  {
   "cell_type": "code",
   "execution_count": 272,
   "metadata": {},
   "outputs": [
    {
     "data": {
      "image/png": "[encoded data removed]",
      "text/plain": [
       "<Figure size 1000x500 with 2 Axes>"
      ]
     },
     "metadata": {},
     "output_type": "display_data"
    }
   ],
   "source": [
    "fig, axs = plt.subplots(1, 2, figsize=(10, 5))\n",
    "\n",
    "xlim = (min(x) - 5, max(x) + 5)\n",
    "ylim = (min(y) - 5, max(y) + 5)\n",
    "\n",
    "axs[0].set_title('Knots')\n",
    "axs[0].plot(x, y, 'rx-')\n",
    "axs[0].set_xlim(xlim)\n",
    "axs[0].set_ylim(ylim)\n",
    "axs[0].set_aspect('equal')\n",
    "\n",
    "axs[1].set_title('Spline')\n",
    "axs[1].scatter(x, y, marker='x', color='r')\n",
    "axs[1].plot(spline_x, spline_y, 'b-')\n",
    "axs[1].set_xlim(xlim)\n",
    "axs[1].set_ylim(ylim)\n",
    "axs[1].set_aspect('equal')\n",
    "\n",
    "plt.show()"
   ]
  }
 ],
 "metadata": {
  "kernelspec": {
   "display_name": "Python 3",
   "language": "python",
   "name": "python3"
  },
  "language_info": {
   "codemirror_mode": {
    "name": "ipython",
    "version": 3
   },
   "file_extension": ".py",
   "mimetype": "text/x-python",
   "name": "python",
   "nbconvert_exporter": "python",
   "pygments_lexer": "ipython3",
   "version": "3.11.1"
  }
 },
 "nbformat": 4,
 "nbformat_minor": 2
}
